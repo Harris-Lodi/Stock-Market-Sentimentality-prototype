{
 "metadata": {
  "language_info": {
   "codemirror_mode": {
    "name": "ipython",
    "version": 3
   },
   "file_extension": ".py",
   "mimetype": "text/x-python",
   "name": "python",
   "nbconvert_exporter": "python",
   "pygments_lexer": "ipython3",
   "version": "3.8.5-final"
  },
  "orig_nbformat": 2,
  "kernelspec": {
   "name": "Python 3.8.5 64-bit",
   "display_name": "Python 3.8.5 64-bit",
   "metadata": {
    "interpreter": {
     "hash": "1baa965d5efe3ac65b79dfc60c0d706280b1da80fedb7760faf2759126c4f253"
    }
   }
  }
 },
 "nbformat": 4,
 "nbformat_minor": 2,
 "cells": [
  {
   "cell_type": "code",
   "execution_count": 1,
   "metadata": {},
   "outputs": [],
   "source": [
    "# Description: This program will scrap stock tickers from the web"
   ]
  },
  {
   "cell_type": "code",
   "execution_count": 3,
   "metadata": {},
   "outputs": [],
   "source": [
    "# import the dependencies\n",
    "import requests\n",
    "import pandas as pd \n",
    "from bs4 import BeautifulSoup"
   ]
  },
  {
   "cell_type": "code",
   "execution_count": 23,
   "metadata": {},
   "outputs": [],
   "source": [
    "# create two empty lists for the company names and tickers\n",
    "company_Name = []\n",
    "company_Ticker = []"
   ]
  },
  {
   "cell_type": "code",
   "execution_count": 5,
   "metadata": {},
   "outputs": [],
   "source": [
    "# Get URL\n",
    "URL = \"https://www.advfn.com/nyse/newyorkstockexchange.asp?companies=A\"\n",
    "\n",
    "page = requests.get(URL)"
   ]
  },
  {
   "cell_type": "code",
   "execution_count": 6,
   "metadata": {},
   "outputs": [
    {
     "output_type": "execute_result",
     "data": {
      "text/plain": [
       "<Response [200]>"
      ]
     },
     "metadata": {},
     "execution_count": 6
    }
   ],
   "source": [
    "# if response is 200, then request to the URL is working properly\n",
    "page"
   ]
  },
  {
   "cell_type": "code",
   "execution_count": 8,
   "metadata": {},
   "outputs": [],
   "source": [
    "# Parse the HTML text from page.text \n",
    "soup = BeautifulSoup(page.text, 'html.parser')"
   ]
  },
  {
   "cell_type": "code",
   "execution_count": 10,
   "metadata": {},
   "outputs": [],
   "source": [
    "# select tags with TR and class: ts0\n",
    "odd_rows = soup.find_all('tr', attrs={'class':'ts0'})"
   ]
  },
  {
   "cell_type": "code",
   "execution_count": 12,
   "metadata": {},
   "outputs": [],
   "source": [
    "# same for ts1\n",
    "even_rows = soup.find_all('tr', attrs={'class':'ts1'})"
   ]
  },
  {
   "cell_type": "code",
   "execution_count": 25,
   "metadata": {},
   "outputs": [],
   "source": [
    "for i in odd_rows:\n",
    "    row = i.find_all('td')\n",
    "    company_Name.append(row[0].text.strip()) # Company name\n",
    "    company_Ticker.append(row[1].text.strip()) # Company symbol\n",
    "\n",
    "for i in even_rows:\n",
    "    row = i.find_all('td')\n",
    "    company_Name.append(row[0].text.strip()) # Company name\n",
    "    company_Ticker.append(row[1].text.strip()) # Company symbol"
   ]
  },
  {
   "cell_type": "code",
   "execution_count": 30,
   "metadata": {},
   "outputs": [],
   "source": [
    "# Create a function to scrape data\n",
    "def scrape_stock_symbols(Letter):\n",
    "\n",
    "    Letter = Letter.upper()\n",
    "    # Get URL\n",
    "    URL = \"https://www.advfn.com/nyse/newyorkstockexchange.asp?companies=\"+Letter\n",
    "    page = requests.get(URL)\n",
    "    # Parse the HTML text from page.text \n",
    "    soup = BeautifulSoup(page.text, 'html.parser')\n",
    "    # select tags with TR and class: ts0\n",
    "    odd_rows = soup.find_all('tr', attrs={'class':'ts0'})\n",
    "    # same for ts1\n",
    "    even_rows = soup.find_all('tr', attrs={'class':'ts1'})\n",
    "\n",
    "    for i in odd_rows:\n",
    "        row = i.find_all('td')\n",
    "        company_Name.append(row[0].text.strip()) # Company name\n",
    "        company_Ticker.append(row[1].text.strip()) # Company symbol\n",
    "\n",
    "    for i in even_rows:\n",
    "        row = i.find_all('td')\n",
    "        company_Name.append(row[0].text.strip()) # Company name\n",
    "        company_Ticker.append(row[1].text.strip()) # Company symbol\n",
    "    \n",
    "    return (company_Name, company_Ticker)"
   ]
  },
  {
   "cell_type": "code",
   "execution_count": 31,
   "metadata": {},
   "outputs": [
    {
     "output_type": "execute_result",
     "data": {
      "text/plain": [
       "['B C E',\n",
       " 'B R T Realty Trust',\n",
       " 'Badger Meter Inc.',\n",
       " 'Baker Hughes',\n",
       " 'Ball',\n",
       " 'Banco Bilbao Arg',\n",
       " 'Banco De Chile',\n",
       " 'Banco Latino Americano',\n",
       " 'Banco Santander',\n",
       " 'Bancolombia',\n",
       " 'Bank America Corp',\n",
       " 'Bank Atlantic',\n",
       " '',\n",
       " 'Bank of America Corp',\n",
       " '',\n",
       " 'Bank of America Cp',\n",
       " 'Bank of Montreal',\n",
       " 'Bank of Nova Scotia',\n",
       " 'Barclays',\n",
       " '',\n",
       " 'Bard C R',\n",
       " 'Barnes & Noble',\n",
       " 'Basic Energy',\n",
       " 'Baytex',\n",
       " '',\n",
       " 'Bear Market Stars Linked to the Consumer',\n",
       " 'Beazer',\n",
       " 'Becton Dickinson',\n",
       " 'Belden Cdt',\n",
       " 'Bemis',\n",
       " 'Berkley (w. R.) Corp.',\n",
       " 'Berkshire Hath B',\n",
       " 'Best Buy',\n",
       " 'Bhp Billiton',\n",
       " 'Big Lots Inc.',\n",
       " 'Bio-rad Laboratories Cl B',\n",
       " '',\n",
       " 'Bj Services',\n",
       " 'Black Decker',\n",
       " 'Blackrck Gl Op Eq',\n",
       " 'Blackrock Ca Mun',\n",
       " 'Blackrock Cal Mun Bd',\n",
       " 'Blackrock Div Ach',\n",
       " 'Blackrock Global Equity Income Trust',\n",
       " 'Blackrock Long-term Municipal Advantage',\n",
       " 'Blackrock Ny Muni Bd',\n",
       " '',\n",
       " 'Blockbuster',\n",
       " 'Blount',\n",
       " 'Bluegreen',\n",
       " 'Blyth S2',\n",
       " 'Bnsf',\n",
       " 'Boardwalk Pipeline',\n",
       " 'Boeing',\n",
       " 'Borg Warner',\n",
       " 'Boston Properties',\n",
       " 'Bowne & Co',\n",
       " 'Bp',\n",
       " 'Brandywine',\n",
       " '',\n",
       " '',\n",
       " 'Bridges on Ten Comp',\n",
       " 'Brinker',\n",
       " 'Brinks Home Securit',\n",
       " 'Brookdale Senior Lvg',\n",
       " 'Brookfield Asset Mgt',\n",
       " 'Brookfield Infrastru',\n",
       " 'Brown Forman A',\n",
       " '',\n",
       " 'Brush Engineered Mat',\n",
       " 'Buckeye',\n",
       " 'Buckeye Partners',\n",
       " 'Buffer Notes Sp 500',\n",
       " 'Bunge',\n",
       " 'Burlington',\n",
       " 'Bway Holdings',\n",
       " 'B P Prudhoe Bay',\n",
       " 'Babcock Brown Air',\n",
       " 'Bairnco',\n",
       " 'Baldor',\n",
       " '',\n",
       " 'Banco Bradesco',\n",
       " 'Banco Itau',\n",
       " 'Banco Macro Bansud',\n",
       " 'Banco Santander Chile',\n",
       " 'Bancorpsouth',\n",
       " '',\n",
       " 'Bank of America',\n",
       " 'Bank of America',\n",
       " '',\n",
       " 'Bank of America Corp.',\n",
       " 'Bank of Hawaii',\n",
       " 'Bank of N Y',\n",
       " 'Bankof Am 5.50 Inter',\n",
       " '',\n",
       " '',\n",
       " 'Barnes',\n",
       " 'Barrick Gold',\n",
       " 'Baxter',\n",
       " 'Bb & T',\n",
       " 'Bbva Banco Frances',\n",
       " 'Bear Stearn Alerian',\n",
       " 'Beckman Coulter',\n",
       " 'Bed Bath & Beyond',\n",
       " 'Belo',\n",
       " 'Benchmark Electronic',\n",
       " 'Berkshire Hath A',\n",
       " '',\n",
       " 'Bg Foods (new)',\n",
       " 'Bhp Billiton Sp',\n",
       " 'Bill Barrett',\n",
       " 'Bio-rad Laboratories Inc.',\n",
       " 'Biovail',\n",
       " 'Bjs Wholesale Club',\n",
       " 'Black Hills',\n",
       " 'Blackrock',\n",
       " 'Blackrock Ca Mun2018',\n",
       " 'Blackrock Dfnd Op Cr',\n",
       " '',\n",
       " 'Blackrock High Income',\n",
       " 'Blackrock Mun',\n",
       " 'Blackrock Pfd Eq',\n",
       " 'Blackstone Grp Lp Ut',\n",
       " 'Blockbuster',\n",
       " '',\n",
       " 'Bluelinx',\n",
       " 'Bmc',\n",
       " 'Boa',\n",
       " 'Boca Resorts',\n",
       " 'Borders',\n",
       " 'Boston Beer',\n",
       " 'Boston Scientific',\n",
       " 'Boyd Gaming',\n",
       " 'Brady',\n",
       " 'Brasil Telecom',\n",
       " 'Braskem',\n",
       " 'Bridgepoint Educatio',\n",
       " 'Briggs Stratton Dc',\n",
       " 'Brinks',\n",
       " 'British Sky',\n",
       " 'Brookfield',\n",
       " 'Brookfield Homes',\n",
       " 'Brown & Brown',\n",
       " 'Brown Forman B',\n",
       " 'Brunswick',\n",
       " 'Bt',\n",
       " 'Buckeye Gp Holdings Lp',\n",
       " 'Buckle',\n",
       " 'Build a Bear Workshop',\n",
       " 'Burger King Holdings',\n",
       " '']"
      ]
     },
     "metadata": {},
     "execution_count": 31
    }
   ],
   "source": [
    "# test function\n",
    "(temp_name, temp_ticker) = scrape_stock_symbols('b')\n",
    "temp_name"
   ]
  },
  {
   "cell_type": "code",
   "execution_count": 32,
   "metadata": {},
   "outputs": [
    {
     "output_type": "execute_result",
     "data": {
      "text/plain": [
       "'ABCDEFGHIJKLMNOPQRSTUVWXYZ'"
      ]
     },
     "metadata": {},
     "execution_count": 32
    }
   ],
   "source": [
    "# Get a list of everyletter in the alphabet\n",
    "import string \n",
    "string.ascii_uppercase"
   ]
  },
  {
   "cell_type": "code",
   "execution_count": 52,
   "metadata": {},
   "outputs": [
    {
     "output_type": "execute_result",
     "data": {
      "text/plain": [
       "[]"
      ]
     },
     "metadata": {},
     "execution_count": 52
    }
   ],
   "source": [
    "company_Name = []\n",
    "company_Ticker = []\n",
    "names = []\n",
    "tickers = []\n",
    "\n",
    "company_Name\n",
    "company_Ticker"
   ]
  },
  {
   "cell_type": "code",
   "execution_count": 54,
   "metadata": {},
   "outputs": [],
   "source": [
    "# Loop through every letter in the alphabet to get all tickers and names from the site\n",
    "for char in string.ascii_uppercase:\n",
    "    # print(char)\n",
    "    names.append(scrape_stock_symbols(char)[0])\n",
    "    tickers.append(scrape_stock_symbols(char)[1])"
   ]
  },
  {
   "cell_type": "code",
   "execution_count": 59,
   "metadata": {},
   "outputs": [],
   "source": [
    "# convert list of lists into a single list\n",
    "stockNames = [item for sublist in names for item in sublist]\n",
    "stocktickers = [item for sublist in tickers for item in sublist]"
   ]
  },
  {
   "cell_type": "code",
   "execution_count": 62,
   "metadata": {},
   "outputs": [
    {
     "output_type": "execute_result",
     "data": {
      "text/plain": [
       "          stockNames stockTickers\n",
       "0          A K Steel          AKS\n",
       "1     A M R Cp 7.875          AAR\n",
       "2              A a R          AIR\n",
       "3        Aaron Rents        RNT.A\n",
       "4        Aarons Cl A        AAN.A\n",
       "...              ...          ...\n",
       "2455            Zale          ZLC\n",
       "2456          Zenith          ZNT\n",
       "2457                             \n",
       "2458          Zapata          ZAP\n",
       "2459             Zep          ZEP\n",
       "\n",
       "[2460 rows x 2 columns]"
      ],
      "text/html": "<div>\n<style scoped>\n    .dataframe tbody tr th:only-of-type {\n        vertical-align: middle;\n    }\n\n    .dataframe tbody tr th {\n        vertical-align: top;\n    }\n\n    .dataframe thead th {\n        text-align: right;\n    }\n</style>\n<table border=\"1\" class=\"dataframe\">\n  <thead>\n    <tr style=\"text-align: right;\">\n      <th></th>\n      <th>stockNames</th>\n      <th>stockTickers</th>\n    </tr>\n  </thead>\n  <tbody>\n    <tr>\n      <th>0</th>\n      <td>A K Steel</td>\n      <td>AKS</td>\n    </tr>\n    <tr>\n      <th>1</th>\n      <td>A M R Cp 7.875</td>\n      <td>AAR</td>\n    </tr>\n    <tr>\n      <th>2</th>\n      <td>A a R</td>\n      <td>AIR</td>\n    </tr>\n    <tr>\n      <th>3</th>\n      <td>Aaron Rents</td>\n      <td>RNT.A</td>\n    </tr>\n    <tr>\n      <th>4</th>\n      <td>Aarons Cl A</td>\n      <td>AAN.A</td>\n    </tr>\n    <tr>\n      <th>...</th>\n      <td>...</td>\n      <td>...</td>\n    </tr>\n    <tr>\n      <th>2455</th>\n      <td>Zale</td>\n      <td>ZLC</td>\n    </tr>\n    <tr>\n      <th>2456</th>\n      <td>Zenith</td>\n      <td>ZNT</td>\n    </tr>\n    <tr>\n      <th>2457</th>\n      <td></td>\n      <td></td>\n    </tr>\n    <tr>\n      <th>2458</th>\n      <td>Zapata</td>\n      <td>ZAP</td>\n    </tr>\n    <tr>\n      <th>2459</th>\n      <td>Zep</td>\n      <td>ZEP</td>\n    </tr>\n  </tbody>\n</table>\n<p>2460 rows × 2 columns</p>\n</div>"
     },
     "metadata": {},
     "execution_count": 62
    }
   ],
   "source": [
    "# Create a dataframe that contains the company names and tickers\n",
    "data = pd.DataFrame(columns=['stockNames', 'stockTickers'])\n",
    "data['stockNames'] = stockNames\n",
    "data['stockTickers'] = stocktickers\n",
    "# show data\n",
    "data"
   ]
  },
  {
   "cell_type": "code",
   "execution_count": 63,
   "metadata": {},
   "outputs": [
    {
     "output_type": "execute_result",
     "data": {
      "text/plain": [
       "            stockNames stockTickers\n",
       "0            A K Steel          AKS\n",
       "1       A M R Cp 7.875          AAR\n",
       "2                A a R          AIR\n",
       "3          Aaron Rents        RNT.A\n",
       "4          Aarons Cl A        AAN.A\n",
       "...                ...          ...\n",
       "2453  Yamana Gold Inc.          AUY\n",
       "2455              Zale          ZLC\n",
       "2456            Zenith          ZNT\n",
       "2458            Zapata          ZAP\n",
       "2459               Zep          ZEP\n",
       "\n",
       "[2167 rows x 2 columns]"
      ],
      "text/html": "<div>\n<style scoped>\n    .dataframe tbody tr th:only-of-type {\n        vertical-align: middle;\n    }\n\n    .dataframe tbody tr th {\n        vertical-align: top;\n    }\n\n    .dataframe thead th {\n        text-align: right;\n    }\n</style>\n<table border=\"1\" class=\"dataframe\">\n  <thead>\n    <tr style=\"text-align: right;\">\n      <th></th>\n      <th>stockNames</th>\n      <th>stockTickers</th>\n    </tr>\n  </thead>\n  <tbody>\n    <tr>\n      <th>0</th>\n      <td>A K Steel</td>\n      <td>AKS</td>\n    </tr>\n    <tr>\n      <th>1</th>\n      <td>A M R Cp 7.875</td>\n      <td>AAR</td>\n    </tr>\n    <tr>\n      <th>2</th>\n      <td>A a R</td>\n      <td>AIR</td>\n    </tr>\n    <tr>\n      <th>3</th>\n      <td>Aaron Rents</td>\n      <td>RNT.A</td>\n    </tr>\n    <tr>\n      <th>4</th>\n      <td>Aarons Cl A</td>\n      <td>AAN.A</td>\n    </tr>\n    <tr>\n      <th>...</th>\n      <td>...</td>\n      <td>...</td>\n    </tr>\n    <tr>\n      <th>2453</th>\n      <td>Yamana Gold Inc.</td>\n      <td>AUY</td>\n    </tr>\n    <tr>\n      <th>2455</th>\n      <td>Zale</td>\n      <td>ZLC</td>\n    </tr>\n    <tr>\n      <th>2456</th>\n      <td>Zenith</td>\n      <td>ZNT</td>\n    </tr>\n    <tr>\n      <th>2458</th>\n      <td>Zapata</td>\n      <td>ZAP</td>\n    </tr>\n    <tr>\n      <th>2459</th>\n      <td>Zep</td>\n      <td>ZEP</td>\n    </tr>\n  </tbody>\n</table>\n<p>2167 rows × 2 columns</p>\n</div>"
     },
     "metadata": {},
     "execution_count": 63
    }
   ],
   "source": [
    "# clean data of empty spots\n",
    "data = data[data['stockNames'] != '']\n",
    "# show it\n",
    "data "
   ]
  },
  {
   "cell_type": "code",
   "execution_count": null,
   "metadata": {},
   "outputs": [],
   "source": [
    "# this needs to be redone to include a time.sleep function to create pauses when scraping, other wise the site will kick out the scraper!"
   ]
  }
 ]
}
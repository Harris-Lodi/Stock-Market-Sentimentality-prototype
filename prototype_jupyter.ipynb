{
 "metadata": {
  "language_info": {
   "codemirror_mode": {
    "name": "ipython",
    "version": 3
   },
   "file_extension": ".py",
   "mimetype": "text/x-python",
   "name": "python",
   "nbconvert_exporter": "python",
   "pygments_lexer": "ipython3",
   "version": "3.8.5-final"
  },
  "orig_nbformat": 2,
  "kernelspec": {
   "name": "python_defaultSpec_1599791477662",
   "display_name": "Python 3.8.5 64-bit"
  }
 },
 "nbformat": 4,
 "nbformat_minor": 2,
 "cells": [
  {
   "cell_type": "code",
   "execution_count": 2,
   "metadata": {
    "tags": []
   },
   "outputs": [
    {
     "output_type": "stream",
     "name": "stdout",
     "text": "Note: you may need to restart the kernel to use updated packages.\n'C:\\Program' is not recognized as an internal or external command,\noperable program or batch file.\n"
    }
   ],
   "source": [
    "pip install vaderSentiment"
   ]
  },
  {
   "cell_type": "code",
   "execution_count": 1,
   "metadata": {},
   "outputs": [],
   "source": [
    "import pandas as pd \n",
    "import numpy as np \n",
    "from textblob import TextBlob \n",
    "import re # regular expressions\n",
    "from vaderSentiment.vaderSentiment import SentimentIntensityAnalyzer \n",
    "from sklearn.model_selection import train_test_split \n",
    "from sklearn.metrics import accuracy_score, classification_report \n",
    "from sklearn.discriminant_analysis import LinearDiscriminantAnalysis "
   ]
  },
  {
   "cell_type": "code",
   "execution_count": 2,
   "metadata": {},
   "outputs": [],
   "source": [
    "df1 = pd.read_csv(\"Data/News_DJIA.csv\")\n",
    "df2 = pd.read_csv(\"Data/Value_DJIA.csv\")"
   ]
  },
  {
   "cell_type": "code",
   "execution_count": 3,
   "metadata": {},
   "outputs": [
    {
     "output_type": "execute_result",
     "data": {
      "text/plain": "         Date  Label                                               Top1  \\\n0  2008-08-08      0  b\"Georgia 'downs two Russian warplanes' as cou...   \n1  2008-08-11      1  b'Why wont America and Nato help us? If they w...   \n2  2008-08-12      0  b'Remember that adorable 9-year-old who sang a...   \n\n                                          Top2  \\\n0      b'BREAKING: Musharraf to be impeached.'   \n1  b'Bush puts foot down on Georgian conflict'   \n2           b\"Russia 'ends Georgia operation'\"   \n\n                                                Top3  \\\n0  b'Russia Today: Columns of troops roll into So...   \n1  b\"Jewish Georgian minister: Thanks to Israeli ...   \n2  b'\"If we had no sexual harassment we would hav...   \n\n                                                Top4  \\\n0  b'Russian tanks are moving towards the capital...   \n1  b'Georgian army flees in disarray as Russians ...   \n2  b\"Al-Qa'eda is losing support in Iraq because ...   \n\n                                                Top5  \\\n0  b\"Afghan children raped with 'impunity,' U.N. ...   \n1      b\"Olympic opening ceremony fireworks 'faked'\"   \n2  b'Ceasefire in Georgia: Putin Outmaneuvers the...   \n\n                                                Top6  \\\n0  b'150 Russian tanks have entered South Ossetia...   \n1  b'What were the Mossad with fraudulent New Zea...   \n2  b'Why Microsoft and Intel tried to kill the XO...   \n\n                                                Top7  \\\n0  b\"Breaking: Georgia invades South Ossetia, Rus...   \n1  b'Russia angered by Israeli military sale to G...   \n2  b'Stratfor: The Russo-Georgian War and the Bal...   \n\n                                                Top8  ...  \\\n0  b\"The 'enemy combatent' trials are nothing but...  ...   \n1  b'An American citizen living in S.Ossetia blam...  ...   \n2  b\"I'm Trying to Get a Sense of This Whole Geor...  ...   \n\n                                               Top16  \\\n0  b'Georgia Invades South Ossetia - if Russia ge...   \n1  b'Israel and the US behind the Georgian aggres...   \n2  b'U.S. troops still in Georgia (did you know t...   \n\n                                               Top17  \\\n0                b'Al-Qaeda Faces Islamist Backlash'   \n1  b'\"Do not believe TV, neither Russian nor Geor...   \n2       b'Why Russias response to Georgia was right'   \n\n                                               Top18  \\\n0  b'Condoleezza Rice: \"The US would not act to p...   \n1  b'Riots are still going on in Montreal (Canada...   \n2  b'Gorbachev accuses U.S. of making a \"serious ...   \n\n                                               Top19  \\\n0  b'This is a busy day:  The European Union has ...   \n1    b'China to overtake US as largest manufacturer'   \n2         b'Russia, Georgia, and NATO: Cold War Two'   \n\n                                               Top20  \\\n0  b\"Georgia will withdraw 1,000 soldiers from Ir...   \n1                     b'War in South Ossetia [PICS]'   \n2  b'Remember that adorable 62-year-old who led y...   \n\n                                               Top21  \\\n0  b'Why the Pentagon Thinks Attacking Iran is a ...   \n1  b'Israeli Physicians Group Condemns State Tort...   \n2          b'War in Georgia: The Israeli connection'   \n\n                                               Top22  \\\n0  b'Caucasus in crisis: Georgia invades South Os...   \n1  b' Russia has just beaten the United States ov...   \n2  b'All signs point to the US encouraging Georgi...   \n\n                                               Top23  \\\n0  b'Indian shoe manufactory  - And again in a se...   \n1  b'Perhaps *the* question about the Georgia - R...   \n2  b'Christopher King argues that the US and NATO...   \n\n                                               Top24  \\\n0  b'Visitors Suffering from Mental Illnesses Ban...   \n1                 b'Russia is so much better at war'   \n2                        b'America: The New Mexico?'   \n\n                                               Top25  \n0           b\"No Help for Mexico's Kidnapping Surge\"  \n1  b\"So this is what it's come to: trading sex fo...  \n2  b\"BBC NEWS | Asia-Pacific | Extinction 'by man...  \n\n[3 rows x 27 columns]",
      "text/html": "<div>\n<style scoped>\n    .dataframe tbody tr th:only-of-type {\n        vertical-align: middle;\n    }\n\n    .dataframe tbody tr th {\n        vertical-align: top;\n    }\n\n    .dataframe thead th {\n        text-align: right;\n    }\n</style>\n<table border=\"1\" class=\"dataframe\">\n  <thead>\n    <tr style=\"text-align: right;\">\n      <th></th>\n      <th>Date</th>\n      <th>Label</th>\n      <th>Top1</th>\n      <th>Top2</th>\n      <th>Top3</th>\n      <th>Top4</th>\n      <th>Top5</th>\n      <th>Top6</th>\n      <th>Top7</th>\n      <th>Top8</th>\n      <th>...</th>\n      <th>Top16</th>\n      <th>Top17</th>\n      <th>Top18</th>\n      <th>Top19</th>\n      <th>Top20</th>\n      <th>Top21</th>\n      <th>Top22</th>\n      <th>Top23</th>\n      <th>Top24</th>\n      <th>Top25</th>\n    </tr>\n  </thead>\n  <tbody>\n    <tr>\n      <th>0</th>\n      <td>2008-08-08</td>\n      <td>0</td>\n      <td>b\"Georgia 'downs two Russian warplanes' as cou...</td>\n      <td>b'BREAKING: Musharraf to be impeached.'</td>\n      <td>b'Russia Today: Columns of troops roll into So...</td>\n      <td>b'Russian tanks are moving towards the capital...</td>\n      <td>b\"Afghan children raped with 'impunity,' U.N. ...</td>\n      <td>b'150 Russian tanks have entered South Ossetia...</td>\n      <td>b\"Breaking: Georgia invades South Ossetia, Rus...</td>\n      <td>b\"The 'enemy combatent' trials are nothing but...</td>\n      <td>...</td>\n      <td>b'Georgia Invades South Ossetia - if Russia ge...</td>\n      <td>b'Al-Qaeda Faces Islamist Backlash'</td>\n      <td>b'Condoleezza Rice: \"The US would not act to p...</td>\n      <td>b'This is a busy day:  The European Union has ...</td>\n      <td>b\"Georgia will withdraw 1,000 soldiers from Ir...</td>\n      <td>b'Why the Pentagon Thinks Attacking Iran is a ...</td>\n      <td>b'Caucasus in crisis: Georgia invades South Os...</td>\n      <td>b'Indian shoe manufactory  - And again in a se...</td>\n      <td>b'Visitors Suffering from Mental Illnesses Ban...</td>\n      <td>b\"No Help for Mexico's Kidnapping Surge\"</td>\n    </tr>\n    <tr>\n      <th>1</th>\n      <td>2008-08-11</td>\n      <td>1</td>\n      <td>b'Why wont America and Nato help us? If they w...</td>\n      <td>b'Bush puts foot down on Georgian conflict'</td>\n      <td>b\"Jewish Georgian minister: Thanks to Israeli ...</td>\n      <td>b'Georgian army flees in disarray as Russians ...</td>\n      <td>b\"Olympic opening ceremony fireworks 'faked'\"</td>\n      <td>b'What were the Mossad with fraudulent New Zea...</td>\n      <td>b'Russia angered by Israeli military sale to G...</td>\n      <td>b'An American citizen living in S.Ossetia blam...</td>\n      <td>...</td>\n      <td>b'Israel and the US behind the Georgian aggres...</td>\n      <td>b'\"Do not believe TV, neither Russian nor Geor...</td>\n      <td>b'Riots are still going on in Montreal (Canada...</td>\n      <td>b'China to overtake US as largest manufacturer'</td>\n      <td>b'War in South Ossetia [PICS]'</td>\n      <td>b'Israeli Physicians Group Condemns State Tort...</td>\n      <td>b' Russia has just beaten the United States ov...</td>\n      <td>b'Perhaps *the* question about the Georgia - R...</td>\n      <td>b'Russia is so much better at war'</td>\n      <td>b\"So this is what it's come to: trading sex fo...</td>\n    </tr>\n    <tr>\n      <th>2</th>\n      <td>2008-08-12</td>\n      <td>0</td>\n      <td>b'Remember that adorable 9-year-old who sang a...</td>\n      <td>b\"Russia 'ends Georgia operation'\"</td>\n      <td>b'\"If we had no sexual harassment we would hav...</td>\n      <td>b\"Al-Qa'eda is losing support in Iraq because ...</td>\n      <td>b'Ceasefire in Georgia: Putin Outmaneuvers the...</td>\n      <td>b'Why Microsoft and Intel tried to kill the XO...</td>\n      <td>b'Stratfor: The Russo-Georgian War and the Bal...</td>\n      <td>b\"I'm Trying to Get a Sense of This Whole Geor...</td>\n      <td>...</td>\n      <td>b'U.S. troops still in Georgia (did you know t...</td>\n      <td>b'Why Russias response to Georgia was right'</td>\n      <td>b'Gorbachev accuses U.S. of making a \"serious ...</td>\n      <td>b'Russia, Georgia, and NATO: Cold War Two'</td>\n      <td>b'Remember that adorable 62-year-old who led y...</td>\n      <td>b'War in Georgia: The Israeli connection'</td>\n      <td>b'All signs point to the US encouraging Georgi...</td>\n      <td>b'Christopher King argues that the US and NATO...</td>\n      <td>b'America: The New Mexico?'</td>\n      <td>b\"BBC NEWS | Asia-Pacific | Extinction 'by man...</td>\n    </tr>\n  </tbody>\n</table>\n<p>3 rows × 27 columns</p>\n</div>"
     },
     "metadata": {},
     "execution_count": 3
    }
   ],
   "source": [
    "df1.head(3)"
   ]
  },
  {
   "cell_type": "code",
   "execution_count": 4,
   "metadata": {},
   "outputs": [
    {
     "output_type": "execute_result",
     "data": {
      "text/plain": "(1989, 27)"
     },
     "metadata": {},
     "execution_count": 4
    }
   ],
   "source": [
    "df1.shape"
   ]
  },
  {
   "cell_type": "code",
   "execution_count": 5,
   "metadata": {},
   "outputs": [
    {
     "output_type": "execute_result",
     "data": {
      "text/plain": "         Date          Open          High           Low         Close  \\\n0  2008-01-02  13261.820313  13279.540039  12991.370117  13043.959961   \n1  2008-01-03  13044.120117  13137.929688  13023.559570  13056.719727   \n2  2008-01-04  13046.559570  13046.719727  12789.040039  12800.179688   \n\n      Adj Close     Volume  \n0  13043.959961  239580000  \n1  13056.719727  200620000  \n2  12800.179688  304210000  ",
      "text/html": "<div>\n<style scoped>\n    .dataframe tbody tr th:only-of-type {\n        vertical-align: middle;\n    }\n\n    .dataframe tbody tr th {\n        vertical-align: top;\n    }\n\n    .dataframe thead th {\n        text-align: right;\n    }\n</style>\n<table border=\"1\" class=\"dataframe\">\n  <thead>\n    <tr style=\"text-align: right;\">\n      <th></th>\n      <th>Date</th>\n      <th>Open</th>\n      <th>High</th>\n      <th>Low</th>\n      <th>Close</th>\n      <th>Adj Close</th>\n      <th>Volume</th>\n    </tr>\n  </thead>\n  <tbody>\n    <tr>\n      <th>0</th>\n      <td>2008-01-02</td>\n      <td>13261.820313</td>\n      <td>13279.540039</td>\n      <td>12991.370117</td>\n      <td>13043.959961</td>\n      <td>13043.959961</td>\n      <td>239580000</td>\n    </tr>\n    <tr>\n      <th>1</th>\n      <td>2008-01-03</td>\n      <td>13044.120117</td>\n      <td>13137.929688</td>\n      <td>13023.559570</td>\n      <td>13056.719727</td>\n      <td>13056.719727</td>\n      <td>200620000</td>\n    </tr>\n    <tr>\n      <th>2</th>\n      <td>2008-01-04</td>\n      <td>13046.559570</td>\n      <td>13046.719727</td>\n      <td>12789.040039</td>\n      <td>12800.179688</td>\n      <td>12800.179688</td>\n      <td>304210000</td>\n    </tr>\n  </tbody>\n</table>\n</div>"
     },
     "metadata": {},
     "execution_count": 5
    }
   ],
   "source": [
    "df2.head(3)"
   ]
  },
  {
   "cell_type": "code",
   "execution_count": 6,
   "metadata": {},
   "outputs": [
    {
     "output_type": "execute_result",
     "data": {
      "text/plain": "(2266, 7)"
     },
     "metadata": {},
     "execution_count": 6
    }
   ],
   "source": [
    "df2.shape"
   ]
  },
  {
   "cell_type": "code",
   "execution_count": 55,
   "metadata": {},
   "outputs": [],
   "source": [
    "# left and right index have to be true to solve index error\n",
    "merge = df1.merge(df2, how = 'inner', on = 'Date', left_index = True, right_index = True)"
   ]
  },
  {
   "cell_type": "code",
   "execution_count": 56,
   "metadata": {},
   "outputs": [
    {
     "output_type": "execute_result",
     "data": {
      "text/plain": "         Date  Label                                               Top1  \\\n0  2008-08-08      0  b\"Georgia 'downs two Russian warplanes' as cou...   \n1  2008-08-11      1  b'Why wont America and Nato help us? If they w...   \n2  2008-08-12      0  b'Remember that adorable 9-year-old who sang a...   \n\n                                          Top2  \\\n0      b'BREAKING: Musharraf to be impeached.'   \n1  b'Bush puts foot down on Georgian conflict'   \n2           b\"Russia 'ends Georgia operation'\"   \n\n                                                Top3  \\\n0  b'Russia Today: Columns of troops roll into So...   \n1  b\"Jewish Georgian minister: Thanks to Israeli ...   \n2  b'\"If we had no sexual harassment we would hav...   \n\n                                                Top4  \\\n0  b'Russian tanks are moving towards the capital...   \n1  b'Georgian army flees in disarray as Russians ...   \n2  b\"Al-Qa'eda is losing support in Iraq because ...   \n\n                                                Top5  \\\n0  b\"Afghan children raped with 'impunity,' U.N. ...   \n1      b\"Olympic opening ceremony fireworks 'faked'\"   \n2  b'Ceasefire in Georgia: Putin Outmaneuvers the...   \n\n                                                Top6  \\\n0  b'150 Russian tanks have entered South Ossetia...   \n1  b'What were the Mossad with fraudulent New Zea...   \n2  b'Why Microsoft and Intel tried to kill the XO...   \n\n                                                Top7  \\\n0  b\"Breaking: Georgia invades South Ossetia, Rus...   \n1  b'Russia angered by Israeli military sale to G...   \n2  b'Stratfor: The Russo-Georgian War and the Bal...   \n\n                                                Top8  ...  \\\n0  b\"The 'enemy combatent' trials are nothing but...  ...   \n1  b'An American citizen living in S.Ossetia blam...  ...   \n2  b\"I'm Trying to Get a Sense of This Whole Geor...  ...   \n\n                                               Top22  \\\n0  b'Caucasus in crisis: Georgia invades South Os...   \n1  b' Russia has just beaten the United States ov...   \n2  b'All signs point to the US encouraging Georgi...   \n\n                                               Top23  \\\n0  b'Indian shoe manufactory  - And again in a se...   \n1  b'Perhaps *the* question about the Georgia - R...   \n2  b'Christopher King argues that the US and NATO...   \n\n                                               Top24  \\\n0  b'Visitors Suffering from Mental Illnesses Ban...   \n1                 b'Russia is so much better at war'   \n2                        b'America: The New Mexico?'   \n\n                                               Top25          Open  \\\n0           b\"No Help for Mexico's Kidnapping Surge\"  13261.820313   \n1  b\"So this is what it's come to: trading sex fo...  13044.120117   \n2  b\"BBC NEWS | Asia-Pacific | Extinction 'by man...  13046.559570   \n\n           High           Low         Close     Adj Close     Volume  \n0  13279.540039  12991.370117  13043.959961  13043.959961  239580000  \n1  13137.929688  13023.559570  13056.719727  13056.719727  200620000  \n2  13046.719727  12789.040039  12800.179688  12800.179688  304210000  \n\n[3 rows x 33 columns]",
      "text/html": "<div>\n<style scoped>\n    .dataframe tbody tr th:only-of-type {\n        vertical-align: middle;\n    }\n\n    .dataframe tbody tr th {\n        vertical-align: top;\n    }\n\n    .dataframe thead th {\n        text-align: right;\n    }\n</style>\n<table border=\"1\" class=\"dataframe\">\n  <thead>\n    <tr style=\"text-align: right;\">\n      <th></th>\n      <th>Date</th>\n      <th>Label</th>\n      <th>Top1</th>\n      <th>Top2</th>\n      <th>Top3</th>\n      <th>Top4</th>\n      <th>Top5</th>\n      <th>Top6</th>\n      <th>Top7</th>\n      <th>Top8</th>\n      <th>...</th>\n      <th>Top22</th>\n      <th>Top23</th>\n      <th>Top24</th>\n      <th>Top25</th>\n      <th>Open</th>\n      <th>High</th>\n      <th>Low</th>\n      <th>Close</th>\n      <th>Adj Close</th>\n      <th>Volume</th>\n    </tr>\n  </thead>\n  <tbody>\n    <tr>\n      <th>0</th>\n      <td>2008-08-08</td>\n      <td>0</td>\n      <td>b\"Georgia 'downs two Russian warplanes' as cou...</td>\n      <td>b'BREAKING: Musharraf to be impeached.'</td>\n      <td>b'Russia Today: Columns of troops roll into So...</td>\n      <td>b'Russian tanks are moving towards the capital...</td>\n      <td>b\"Afghan children raped with 'impunity,' U.N. ...</td>\n      <td>b'150 Russian tanks have entered South Ossetia...</td>\n      <td>b\"Breaking: Georgia invades South Ossetia, Rus...</td>\n      <td>b\"The 'enemy combatent' trials are nothing but...</td>\n      <td>...</td>\n      <td>b'Caucasus in crisis: Georgia invades South Os...</td>\n      <td>b'Indian shoe manufactory  - And again in a se...</td>\n      <td>b'Visitors Suffering from Mental Illnesses Ban...</td>\n      <td>b\"No Help for Mexico's Kidnapping Surge\"</td>\n      <td>13261.820313</td>\n      <td>13279.540039</td>\n      <td>12991.370117</td>\n      <td>13043.959961</td>\n      <td>13043.959961</td>\n      <td>239580000</td>\n    </tr>\n    <tr>\n      <th>1</th>\n      <td>2008-08-11</td>\n      <td>1</td>\n      <td>b'Why wont America and Nato help us? If they w...</td>\n      <td>b'Bush puts foot down on Georgian conflict'</td>\n      <td>b\"Jewish Georgian minister: Thanks to Israeli ...</td>\n      <td>b'Georgian army flees in disarray as Russians ...</td>\n      <td>b\"Olympic opening ceremony fireworks 'faked'\"</td>\n      <td>b'What were the Mossad with fraudulent New Zea...</td>\n      <td>b'Russia angered by Israeli military sale to G...</td>\n      <td>b'An American citizen living in S.Ossetia blam...</td>\n      <td>...</td>\n      <td>b' Russia has just beaten the United States ov...</td>\n      <td>b'Perhaps *the* question about the Georgia - R...</td>\n      <td>b'Russia is so much better at war'</td>\n      <td>b\"So this is what it's come to: trading sex fo...</td>\n      <td>13044.120117</td>\n      <td>13137.929688</td>\n      <td>13023.559570</td>\n      <td>13056.719727</td>\n      <td>13056.719727</td>\n      <td>200620000</td>\n    </tr>\n    <tr>\n      <th>2</th>\n      <td>2008-08-12</td>\n      <td>0</td>\n      <td>b'Remember that adorable 9-year-old who sang a...</td>\n      <td>b\"Russia 'ends Georgia operation'\"</td>\n      <td>b'\"If we had no sexual harassment we would hav...</td>\n      <td>b\"Al-Qa'eda is losing support in Iraq because ...</td>\n      <td>b'Ceasefire in Georgia: Putin Outmaneuvers the...</td>\n      <td>b'Why Microsoft and Intel tried to kill the XO...</td>\n      <td>b'Stratfor: The Russo-Georgian War and the Bal...</td>\n      <td>b\"I'm Trying to Get a Sense of This Whole Geor...</td>\n      <td>...</td>\n      <td>b'All signs point to the US encouraging Georgi...</td>\n      <td>b'Christopher King argues that the US and NATO...</td>\n      <td>b'America: The New Mexico?'</td>\n      <td>b\"BBC NEWS | Asia-Pacific | Extinction 'by man...</td>\n      <td>13046.559570</td>\n      <td>13046.719727</td>\n      <td>12789.040039</td>\n      <td>12800.179688</td>\n      <td>12800.179688</td>\n      <td>304210000</td>\n    </tr>\n  </tbody>\n</table>\n<p>3 rows × 33 columns</p>\n</div>"
     },
     "metadata": {},
     "execution_count": 56
    }
   ],
   "source": [
    "merge.head(3)"
   ]
  },
  {
   "cell_type": "code",
   "execution_count": 57,
   "metadata": {},
   "outputs": [
    {
     "output_type": "execute_result",
     "data": {
      "text/plain": "(1989, 33)"
     },
     "metadata": {},
     "execution_count": 57
    }
   ],
   "source": [
    "merge.shape"
   ]
  },
  {
   "cell_type": "code",
   "execution_count": 58,
   "metadata": {},
   "outputs": [],
   "source": [
    "# combine the top news headlines\n",
    "headlines = []\n",
    "\n",
    "for row in range(0, len(merge.index)):\n",
    "    headlines.append(' '.join( str(x) for x in merge.iloc[row, 2:27]))\n",
    "\n"
   ]
  },
  {
   "cell_type": "code",
   "execution_count": 59,
   "metadata": {},
   "outputs": [
    {
     "output_type": "execute_result",
     "data": {
      "text/plain": "'b\"Georgia \\'downs two Russian warplanes\\' as countries move to brink of war\" b\\'BREAKING: Musharraf to be impeached.\\' b\\'Russia Today: Columns of troops roll into South Ossetia; footage from fighting (YouTube)\\' b\\'Russian tanks are moving towards the capital of South Ossetia, which has reportedly been completely destroyed by Georgian artillery fire\\' b\"Afghan children raped with \\'impunity,\\' U.N. official says - this is sick, a three year old was raped and they do nothing\" b\\'150 Russian tanks have entered South Ossetia whilst Georgia shoots down two Russian jets.\\' b\"Breaking: Georgia invades South Ossetia, Russia warned it would intervene on SO\\'s side\" b\"The \\'enemy combatent\\' trials are nothing but a sham: Salim Haman has been sentenced to 5 1/2 years, but will be kept longer anyway just because they feel like it.\" b\\'Georgian troops retreat from S. Osettain capital, presumably leaving several hundred people killed. [VIDEO]\\' b\\'Did the U.S. Prep Georgia for War with Russia?\\' b\\'Rice Gives Green Light for Israel to Attack Iran: Says U.S. has no veto over Israeli military ops\\' b\\'Announcing:Class Action Lawsuit on Behalf of American Public Against the FBI\\' b\"So---Russia and Georgia are at war and the NYT\\'s top story is opening ceremonies of the Olympics?  What a fucking disgrace and yet further proof of the decline of journalism.\" b\"China tells Bush to stay out of other countries\\' affairs\" b\\'Did World War III start today?\\' b\\'Georgia Invades South Ossetia - if Russia gets involved, will NATO absorb Georgia and unleash a full scale war?\\' b\\'Al-Qaeda Faces Islamist Backlash\\' b\\'Condoleezza Rice: \"The US would not act to prevent an Israeli strike on Iran.\" Israeli Defense Minister Ehud Barak: \"Israel is prepared for uncompromising victory in the case of military hostilities.\"\\' b\\'This is a busy day:  The European Union has approved new sanctions against Iran in protest at its nuclear programme.\\' b\"Georgia will withdraw 1,000 soldiers from Iraq to help fight off Russian forces in Georgia\\'s breakaway region of South Ossetia\" b\\'Why the Pentagon Thinks Attacking Iran is a Bad Idea - US News &amp; World Report\\' b\\'Caucasus in crisis: Georgia invades South Ossetia\\' b\\'Indian shoe manufactory  - And again in a series of \"you do not like your work?\"\\' b\\'Visitors Suffering from Mental Illnesses Banned from Olympics\\' b\"No Help for Mexico\\'s Kidnapping Surge\"'"
     },
     "metadata": {},
     "execution_count": 59
    }
   ],
   "source": [
    "# print a sample of the combined headlines, basically first row of headlines\n",
    "headlines[0]"
   ]
  },
  {
   "cell_type": "code",
   "execution_count": 60,
   "metadata": {},
   "outputs": [],
   "source": [
    "# clean up the printed row to remove html tags and unneeded symbols\n",
    "clean_headlines = []\n",
    "\n",
    "for i in range(0, len(headlines)):\n",
    "    clean_headlines.append(re.sub(\"b[(')]\", '', headlines[i])) # removes b'\n",
    "    clean_headlines[i] = re.sub('b[(\")]', '', clean_headlines[i]) # removes b\"\n",
    "    clean_headlines[i] = re.sub(\"\\'\", '', clean_headlines[i]) # removes \\'"
   ]
  },
  {
   "cell_type": "code",
   "execution_count": 61,
   "metadata": {},
   "outputs": [
    {
     "output_type": "execute_result",
     "data": {
      "text/plain": "'Georgia downs two Russian warplanes as countries move to brink of war\" BREAKING: Musharraf to be impeached. Russia Today: Columns of troops roll into South Ossetia; footage from fighting (YouTube) Russian tanks are moving towards the capital of South Ossetia, which has reportedly been completely destroyed by Georgian artillery fire Afghan children raped with impunity, U.N. official says - this is sick, a three year old was raped and they do nothing\" 150 Russian tanks have entered South Ossetia whilst Georgia shoots down two Russian jets. Breaking: Georgia invades South Ossetia, Russia warned it would intervene on SOs side\" The enemy combatent trials are nothing but a sham: Salim Haman has been sentenced to 5 1/2 years, but will be kept longer anyway just because they feel like it.\" Georgian troops retreat from S. Osettain capital, presumably leaving several hundred people killed. [VIDEO] Did the U.S. Prep Georgia for War with Russia? Rice Gives Green Light for Israel to Attack Iran: Says U.S. has no veto over Israeli military ops Announcing:Class Action Lawsuit on Behalf of American Public Against the FBI So---Russia and Georgia are at war and the NYTs top story is opening ceremonies of the Olympics?  What a fucking disgrace and yet further proof of the decline of journalism.\" China tells Bush to stay out of other countries affairs\" Did World War III start today? Georgia Invades South Ossetia - if Russia gets involved, will NATO absorb Georgia and unleash a full scale war? Al-Qaeda Faces Islamist Backlash Condoleezza Rice: \"The US would not act to prevent an Israeli strike on Iran.\" Israeli Defense Minister Ehud Barak: \"Israel is prepared for uncompromising victory in the case of military hostilities.\" This is a busy day:  The European Union has approved new sanctions against Iran in protest at its nuclear programme. Georgia will withdraw 1,000 soldiers from Iraq to help fight off Russian forces in Georgias breakaway region of South Ossetia\" Why the Pentagon Thinks Attacking Iran is a Bad Idea - US News &amp; World Report Caucasus in crisis: Georgia invades South Ossetia Indian shoe manufactory  - And again in a series of \"you do not like your work?\" Visitors Suffering from Mental Illnesses Banned from Olympics No Help for Mexicos Kidnapping Surge\"'"
     },
     "metadata": {},
     "execution_count": 61
    }
   ],
   "source": [
    "# the result of cleaned data\n",
    "clean_headlines[0]"
   ]
  },
  {
   "cell_type": "code",
   "execution_count": 62,
   "metadata": {},
   "outputs": [
    {
     "output_type": "execute_result",
     "data": {
      "text/plain": "'I love the world: Thai Prime Minister Samak Sundaravej was forced to resign after a court said he had violated the Constitution by hosting a cooking show. Seriously. French revolt over Edvige: Nicolas Sarkozys Big Brother spy computer\" Terrorists Fail! \"Time to Carry Liquids on Planes\" - Virgin If you think 9/11 was an inside job, youll find company in Cairo.\" The Dalai Lamas brother has died--pretty interesting article\" North Koreas Kim Jong Il may have had a stroke, U.S. intelligence official says\" How the KGB (and friends) took over Russias economy\" 80% of artists would get &lt;30/year from copyright extension US officials think Kim Jong Il may be gravely ill Church of Scientology faces fraud trial in France Liquid Bomb Terror Plot Collapses In Court -- None of suspects charged with headline-grabbing plan to blow up airlines, alleged ringleader completely acquitted Artist offends members of a faith: Has forced himself into self-exile due to numerous legal cases against him. I wonder what country and religion that could be... U.S. Backs Off Civilian Nuclear Pact With Russia - NYTimes.com British park wardens ordered to stop and quiz adults spotted without children How to Spot a Terrorist on the Fly - washingtonpost.com 3 Accused U.K. Airline Liquid Bom Plotters Found Guilty\" First official sharia law court in Warwickshire (UK) operating for a year now. Still no stonings. Maybe \"Alternative Dispute Resolution\" isn\\\\t such a bad thing after all. Abu Haris Al Qaeda chief in Pakistan killed by US missle strike Ultimate Frisbee at the highest level: You had no idea it was this freaking cool [video] Scientology members to stand trial in French court GAME OVER: Russia starts diplomatic relations with South Ossetia and Abkhazia George W. Bush plans to withdraw 4,000 troops from Iraq before the end of his presidency as the Pentagon starts to shift its focus to Afghanistan. North Korean Leader Is Very Ill, may have had a stroke, American Official Says Al-Qaida new tape blasts Iran for working with US Russian troops to remain in Georgia for a long time\"'"
     },
     "metadata": {},
     "execution_count": 62
    }
   ],
   "source": [
    "clean_headlines[21]"
   ]
  },
  {
   "cell_type": "code",
   "execution_count": 63,
   "metadata": {},
   "outputs": [],
   "source": [
    "# add clean headlines to the merge dataset in a new column\n",
    "\n",
    "# create new column in merge\n",
    "merge['Combined_News'] = clean_headlines"
   ]
  },
  {
   "cell_type": "code",
   "execution_count": 64,
   "metadata": {},
   "outputs": [
    {
     "output_type": "execute_result",
     "data": {
      "text/plain": "'Georgia downs two Russian warplanes as countries move to brink of war\" BREAKING: Musharraf to be impeached. Russia Today: Columns of troops roll into South Ossetia; footage from fighting (YouTube) Russian tanks are moving towards the capital of South Ossetia, which has reportedly been completely destroyed by Georgian artillery fire Afghan children raped with impunity, U.N. official says - this is sick, a three year old was raped and they do nothing\" 150 Russian tanks have entered South Ossetia whilst Georgia shoots down two Russian jets. Breaking: Georgia invades South Ossetia, Russia warned it would intervene on SOs side\" The enemy combatent trials are nothing but a sham: Salim Haman has been sentenced to 5 1/2 years, but will be kept longer anyway just because they feel like it.\" Georgian troops retreat from S. Osettain capital, presumably leaving several hundred people killed. [VIDEO] Did the U.S. Prep Georgia for War with Russia? Rice Gives Green Light for Israel to Attack Iran: Says U.S. has no veto over Israeli military ops Announcing:Class Action Lawsuit on Behalf of American Public Against the FBI So---Russia and Georgia are at war and the NYTs top story is opening ceremonies of the Olympics?  What a fucking disgrace and yet further proof of the decline of journalism.\" China tells Bush to stay out of other countries affairs\" Did World War III start today? Georgia Invades South Ossetia - if Russia gets involved, will NATO absorb Georgia and unleash a full scale war? Al-Qaeda Faces Islamist Backlash Condoleezza Rice: \"The US would not act to prevent an Israeli strike on Iran.\" Israeli Defense Minister Ehud Barak: \"Israel is prepared for uncompromising victory in the case of military hostilities.\" This is a busy day:  The European Union has approved new sanctions against Iran in protest at its nuclear programme. Georgia will withdraw 1,000 soldiers from Iraq to help fight off Russian forces in Georgias breakaway region of South Ossetia\" Why the Pentagon Thinks Attacking Iran is a Bad Idea - US News &amp; World Report Caucasus in crisis: Georgia invades South Ossetia Indian shoe manufactory  - And again in a series of \"you do not like your work?\" Visitors Suffering from Mental Illnesses Banned from Olympics No Help for Mexicos Kidnapping Surge\"'"
     },
     "metadata": {},
     "execution_count": 64
    }
   ],
   "source": [
    "merge['Combined_News'][0]"
   ]
  },
  {
   "cell_type": "code",
   "execution_count": 65,
   "metadata": {},
   "outputs": [
    {
     "output_type": "execute_result",
     "data": {
      "text/plain": "         Date  Label                                               Top1  \\\n0  2008-08-08      0  b\"Georgia 'downs two Russian warplanes' as cou...   \n1  2008-08-11      1  b'Why wont America and Nato help us? If they w...   \n2  2008-08-12      0  b'Remember that adorable 9-year-old who sang a...   \n\n                                          Top2  \\\n0      b'BREAKING: Musharraf to be impeached.'   \n1  b'Bush puts foot down on Georgian conflict'   \n2           b\"Russia 'ends Georgia operation'\"   \n\n                                                Top3  \\\n0  b'Russia Today: Columns of troops roll into So...   \n1  b\"Jewish Georgian minister: Thanks to Israeli ...   \n2  b'\"If we had no sexual harassment we would hav...   \n\n                                                Top4  \\\n0  b'Russian tanks are moving towards the capital...   \n1  b'Georgian army flees in disarray as Russians ...   \n2  b\"Al-Qa'eda is losing support in Iraq because ...   \n\n                                                Top5  \\\n0  b\"Afghan children raped with 'impunity,' U.N. ...   \n1      b\"Olympic opening ceremony fireworks 'faked'\"   \n2  b'Ceasefire in Georgia: Putin Outmaneuvers the...   \n\n                                                Top6  \\\n0  b'150 Russian tanks have entered South Ossetia...   \n1  b'What were the Mossad with fraudulent New Zea...   \n2  b'Why Microsoft and Intel tried to kill the XO...   \n\n                                                Top7  \\\n0  b\"Breaking: Georgia invades South Ossetia, Rus...   \n1  b'Russia angered by Israeli military sale to G...   \n2  b'Stratfor: The Russo-Georgian War and the Bal...   \n\n                                                Top8  ...  \\\n0  b\"The 'enemy combatent' trials are nothing but...  ...   \n1  b'An American citizen living in S.Ossetia blam...  ...   \n2  b\"I'm Trying to Get a Sense of This Whole Geor...  ...   \n\n                                               Top23  \\\n0  b'Indian shoe manufactory  - And again in a se...   \n1  b'Perhaps *the* question about the Georgia - R...   \n2  b'Christopher King argues that the US and NATO...   \n\n                                               Top24  \\\n0  b'Visitors Suffering from Mental Illnesses Ban...   \n1                 b'Russia is so much better at war'   \n2                        b'America: The New Mexico?'   \n\n                                               Top25          Open  \\\n0           b\"No Help for Mexico's Kidnapping Surge\"  13261.820313   \n1  b\"So this is what it's come to: trading sex fo...  13044.120117   \n2  b\"BBC NEWS | Asia-Pacific | Extinction 'by man...  13046.559570   \n\n           High           Low         Close     Adj Close     Volume  \\\n0  13279.540039  12991.370117  13043.959961  13043.959961  239580000   \n1  13137.929688  13023.559570  13056.719727  13056.719727  200620000   \n2  13046.719727  12789.040039  12800.179688  12800.179688  304210000   \n\n                                       Combined_News  \n0  Georgia downs two Russian warplanes as countri...  \n1  Why wont America and Nato help us? If they won...  \n2  Remember that adorable 9-year-old who sang at ...  \n\n[3 rows x 34 columns]",
      "text/html": "<div>\n<style scoped>\n    .dataframe tbody tr th:only-of-type {\n        vertical-align: middle;\n    }\n\n    .dataframe tbody tr th {\n        vertical-align: top;\n    }\n\n    .dataframe thead th {\n        text-align: right;\n    }\n</style>\n<table border=\"1\" class=\"dataframe\">\n  <thead>\n    <tr style=\"text-align: right;\">\n      <th></th>\n      <th>Date</th>\n      <th>Label</th>\n      <th>Top1</th>\n      <th>Top2</th>\n      <th>Top3</th>\n      <th>Top4</th>\n      <th>Top5</th>\n      <th>Top6</th>\n      <th>Top7</th>\n      <th>Top8</th>\n      <th>...</th>\n      <th>Top23</th>\n      <th>Top24</th>\n      <th>Top25</th>\n      <th>Open</th>\n      <th>High</th>\n      <th>Low</th>\n      <th>Close</th>\n      <th>Adj Close</th>\n      <th>Volume</th>\n      <th>Combined_News</th>\n    </tr>\n  </thead>\n  <tbody>\n    <tr>\n      <th>0</th>\n      <td>2008-08-08</td>\n      <td>0</td>\n      <td>b\"Georgia 'downs two Russian warplanes' as cou...</td>\n      <td>b'BREAKING: Musharraf to be impeached.'</td>\n      <td>b'Russia Today: Columns of troops roll into So...</td>\n      <td>b'Russian tanks are moving towards the capital...</td>\n      <td>b\"Afghan children raped with 'impunity,' U.N. ...</td>\n      <td>b'150 Russian tanks have entered South Ossetia...</td>\n      <td>b\"Breaking: Georgia invades South Ossetia, Rus...</td>\n      <td>b\"The 'enemy combatent' trials are nothing but...</td>\n      <td>...</td>\n      <td>b'Indian shoe manufactory  - And again in a se...</td>\n      <td>b'Visitors Suffering from Mental Illnesses Ban...</td>\n      <td>b\"No Help for Mexico's Kidnapping Surge\"</td>\n      <td>13261.820313</td>\n      <td>13279.540039</td>\n      <td>12991.370117</td>\n      <td>13043.959961</td>\n      <td>13043.959961</td>\n      <td>239580000</td>\n      <td>Georgia downs two Russian warplanes as countri...</td>\n    </tr>\n    <tr>\n      <th>1</th>\n      <td>2008-08-11</td>\n      <td>1</td>\n      <td>b'Why wont America and Nato help us? If they w...</td>\n      <td>b'Bush puts foot down on Georgian conflict'</td>\n      <td>b\"Jewish Georgian minister: Thanks to Israeli ...</td>\n      <td>b'Georgian army flees in disarray as Russians ...</td>\n      <td>b\"Olympic opening ceremony fireworks 'faked'\"</td>\n      <td>b'What were the Mossad with fraudulent New Zea...</td>\n      <td>b'Russia angered by Israeli military sale to G...</td>\n      <td>b'An American citizen living in S.Ossetia blam...</td>\n      <td>...</td>\n      <td>b'Perhaps *the* question about the Georgia - R...</td>\n      <td>b'Russia is so much better at war'</td>\n      <td>b\"So this is what it's come to: trading sex fo...</td>\n      <td>13044.120117</td>\n      <td>13137.929688</td>\n      <td>13023.559570</td>\n      <td>13056.719727</td>\n      <td>13056.719727</td>\n      <td>200620000</td>\n      <td>Why wont America and Nato help us? If they won...</td>\n    </tr>\n    <tr>\n      <th>2</th>\n      <td>2008-08-12</td>\n      <td>0</td>\n      <td>b'Remember that adorable 9-year-old who sang a...</td>\n      <td>b\"Russia 'ends Georgia operation'\"</td>\n      <td>b'\"If we had no sexual harassment we would hav...</td>\n      <td>b\"Al-Qa'eda is losing support in Iraq because ...</td>\n      <td>b'Ceasefire in Georgia: Putin Outmaneuvers the...</td>\n      <td>b'Why Microsoft and Intel tried to kill the XO...</td>\n      <td>b'Stratfor: The Russo-Georgian War and the Bal...</td>\n      <td>b\"I'm Trying to Get a Sense of This Whole Geor...</td>\n      <td>...</td>\n      <td>b'Christopher King argues that the US and NATO...</td>\n      <td>b'America: The New Mexico?'</td>\n      <td>b\"BBC NEWS | Asia-Pacific | Extinction 'by man...</td>\n      <td>13046.559570</td>\n      <td>13046.719727</td>\n      <td>12789.040039</td>\n      <td>12800.179688</td>\n      <td>12800.179688</td>\n      <td>304210000</td>\n      <td>Remember that adorable 9-year-old who sang at ...</td>\n    </tr>\n  </tbody>\n</table>\n<p>3 rows × 34 columns</p>\n</div>"
     },
     "metadata": {},
     "execution_count": 65
    }
   ],
   "source": [
    "merge.head(3)"
   ]
  },
  {
   "cell_type": "code",
   "execution_count": 66,
   "metadata": {},
   "outputs": [],
   "source": [
    "# create a function to get the subjectivity\n",
    "def getSubjectivity(text):\n",
    "    return TextBlob(text).sentiment.subjectivity\n",
    "\n",
    "# create a function to get the polarity\n",
    "def getPolarity(text):\n",
    "    return TextBlob(text).sentiment.polarity"
   ]
  },
  {
   "cell_type": "code",
   "execution_count": 67,
   "metadata": {},
   "outputs": [],
   "source": [
    "# create two more columns for merge, subjectivity and polarity\n",
    "merge['Subjectivity'] = merge['Combined_News'].apply(getSubjectivity)\n",
    "merge['Polarity'] = merge['Combined_News'].apply(getPolarity)"
   ]
  },
  {
   "cell_type": "code",
   "execution_count": 68,
   "metadata": {},
   "outputs": [
    {
     "output_type": "execute_result",
     "data": {
      "text/plain": "         Date  Label                                               Top1  \\\n0  2008-08-08      0  b\"Georgia 'downs two Russian warplanes' as cou...   \n1  2008-08-11      1  b'Why wont America and Nato help us? If they w...   \n2  2008-08-12      0  b'Remember that adorable 9-year-old who sang a...   \n\n                                          Top2  \\\n0      b'BREAKING: Musharraf to be impeached.'   \n1  b'Bush puts foot down on Georgian conflict'   \n2           b\"Russia 'ends Georgia operation'\"   \n\n                                                Top3  \\\n0  b'Russia Today: Columns of troops roll into So...   \n1  b\"Jewish Georgian minister: Thanks to Israeli ...   \n2  b'\"If we had no sexual harassment we would hav...   \n\n                                                Top4  \\\n0  b'Russian tanks are moving towards the capital...   \n1  b'Georgian army flees in disarray as Russians ...   \n2  b\"Al-Qa'eda is losing support in Iraq because ...   \n\n                                                Top5  \\\n0  b\"Afghan children raped with 'impunity,' U.N. ...   \n1      b\"Olympic opening ceremony fireworks 'faked'\"   \n2  b'Ceasefire in Georgia: Putin Outmaneuvers the...   \n\n                                                Top6  \\\n0  b'150 Russian tanks have entered South Ossetia...   \n1  b'What were the Mossad with fraudulent New Zea...   \n2  b'Why Microsoft and Intel tried to kill the XO...   \n\n                                                Top7  \\\n0  b\"Breaking: Georgia invades South Ossetia, Rus...   \n1  b'Russia angered by Israeli military sale to G...   \n2  b'Stratfor: The Russo-Georgian War and the Bal...   \n\n                                                Top8  ...  \\\n0  b\"The 'enemy combatent' trials are nothing but...  ...   \n1  b'An American citizen living in S.Ossetia blam...  ...   \n2  b\"I'm Trying to Get a Sense of This Whole Geor...  ...   \n\n                                               Top25          Open  \\\n0           b\"No Help for Mexico's Kidnapping Surge\"  13261.820313   \n1  b\"So this is what it's come to: trading sex fo...  13044.120117   \n2  b\"BBC NEWS | Asia-Pacific | Extinction 'by man...  13046.559570   \n\n           High           Low         Close     Adj Close     Volume  \\\n0  13279.540039  12991.370117  13043.959961  13043.959961  239580000   \n1  13137.929688  13023.559570  13056.719727  13056.719727  200620000   \n2  13046.719727  12789.040039  12800.179688  12800.179688  304210000   \n\n                                       Combined_News Subjectivity  Polarity  \n0  Georgia downs two Russian warplanes as countri...     0.267549 -0.048568  \n1  Why wont America and Nato help us? If they won...     0.374806  0.121956  \n2  Remember that adorable 9-year-old who sang at ...     0.536234 -0.044302  \n\n[3 rows x 36 columns]",
      "text/html": "<div>\n<style scoped>\n    .dataframe tbody tr th:only-of-type {\n        vertical-align: middle;\n    }\n\n    .dataframe tbody tr th {\n        vertical-align: top;\n    }\n\n    .dataframe thead th {\n        text-align: right;\n    }\n</style>\n<table border=\"1\" class=\"dataframe\">\n  <thead>\n    <tr style=\"text-align: right;\">\n      <th></th>\n      <th>Date</th>\n      <th>Label</th>\n      <th>Top1</th>\n      <th>Top2</th>\n      <th>Top3</th>\n      <th>Top4</th>\n      <th>Top5</th>\n      <th>Top6</th>\n      <th>Top7</th>\n      <th>Top8</th>\n      <th>...</th>\n      <th>Top25</th>\n      <th>Open</th>\n      <th>High</th>\n      <th>Low</th>\n      <th>Close</th>\n      <th>Adj Close</th>\n      <th>Volume</th>\n      <th>Combined_News</th>\n      <th>Subjectivity</th>\n      <th>Polarity</th>\n    </tr>\n  </thead>\n  <tbody>\n    <tr>\n      <th>0</th>\n      <td>2008-08-08</td>\n      <td>0</td>\n      <td>b\"Georgia 'downs two Russian warplanes' as cou...</td>\n      <td>b'BREAKING: Musharraf to be impeached.'</td>\n      <td>b'Russia Today: Columns of troops roll into So...</td>\n      <td>b'Russian tanks are moving towards the capital...</td>\n      <td>b\"Afghan children raped with 'impunity,' U.N. ...</td>\n      <td>b'150 Russian tanks have entered South Ossetia...</td>\n      <td>b\"Breaking: Georgia invades South Ossetia, Rus...</td>\n      <td>b\"The 'enemy combatent' trials are nothing but...</td>\n      <td>...</td>\n      <td>b\"No Help for Mexico's Kidnapping Surge\"</td>\n      <td>13261.820313</td>\n      <td>13279.540039</td>\n      <td>12991.370117</td>\n      <td>13043.959961</td>\n      <td>13043.959961</td>\n      <td>239580000</td>\n      <td>Georgia downs two Russian warplanes as countri...</td>\n      <td>0.267549</td>\n      <td>-0.048568</td>\n    </tr>\n    <tr>\n      <th>1</th>\n      <td>2008-08-11</td>\n      <td>1</td>\n      <td>b'Why wont America and Nato help us? If they w...</td>\n      <td>b'Bush puts foot down on Georgian conflict'</td>\n      <td>b\"Jewish Georgian minister: Thanks to Israeli ...</td>\n      <td>b'Georgian army flees in disarray as Russians ...</td>\n      <td>b\"Olympic opening ceremony fireworks 'faked'\"</td>\n      <td>b'What were the Mossad with fraudulent New Zea...</td>\n      <td>b'Russia angered by Israeli military sale to G...</td>\n      <td>b'An American citizen living in S.Ossetia blam...</td>\n      <td>...</td>\n      <td>b\"So this is what it's come to: trading sex fo...</td>\n      <td>13044.120117</td>\n      <td>13137.929688</td>\n      <td>13023.559570</td>\n      <td>13056.719727</td>\n      <td>13056.719727</td>\n      <td>200620000</td>\n      <td>Why wont America and Nato help us? If they won...</td>\n      <td>0.374806</td>\n      <td>0.121956</td>\n    </tr>\n    <tr>\n      <th>2</th>\n      <td>2008-08-12</td>\n      <td>0</td>\n      <td>b'Remember that adorable 9-year-old who sang a...</td>\n      <td>b\"Russia 'ends Georgia operation'\"</td>\n      <td>b'\"If we had no sexual harassment we would hav...</td>\n      <td>b\"Al-Qa'eda is losing support in Iraq because ...</td>\n      <td>b'Ceasefire in Georgia: Putin Outmaneuvers the...</td>\n      <td>b'Why Microsoft and Intel tried to kill the XO...</td>\n      <td>b'Stratfor: The Russo-Georgian War and the Bal...</td>\n      <td>b\"I'm Trying to Get a Sense of This Whole Geor...</td>\n      <td>...</td>\n      <td>b\"BBC NEWS | Asia-Pacific | Extinction 'by man...</td>\n      <td>13046.559570</td>\n      <td>13046.719727</td>\n      <td>12789.040039</td>\n      <td>12800.179688</td>\n      <td>12800.179688</td>\n      <td>304210000</td>\n      <td>Remember that adorable 9-year-old who sang at ...</td>\n      <td>0.536234</td>\n      <td>-0.044302</td>\n    </tr>\n  </tbody>\n</table>\n<p>3 rows × 36 columns</p>\n</div>"
     },
     "metadata": {},
     "execution_count": 68
    }
   ],
   "source": [
    "# show the new columns in the merge dataset\n",
    "merge.head(3)"
   ]
  },
  {
   "cell_type": "code",
   "execution_count": 69,
   "metadata": {},
   "outputs": [],
   "source": [
    "# create a function to get the sentiment scores\n",
    "def getSIA(text):\n",
    "    sia = SentimentIntensityAnalyzer()\n",
    "    sentiment = sia.polarity_scores(text)\n",
    "    return sentiment"
   ]
  },
  {
   "cell_type": "code",
   "execution_count": 70,
   "metadata": {},
   "outputs": [],
   "source": [
    "# get the sentiment scores for each day\n",
    "compound = []\n",
    "negative = []\n",
    "positive = []\n",
    "neutral = []\n",
    "SIA = 0\n",
    "\n",
    "for i in range(0, len(merge['Combined_News'])):\n",
    "    SIA = getSIA(merge['Combined_News'][i])\n",
    "    compound.append(SIA['compound'])\n",
    "    negative.append(SIA['neg'])\n",
    "    neutral.append(SIA['neu'])\n",
    "    positive.append(SIA['pos'])"
   ]
  },
  {
   "cell_type": "code",
   "execution_count": 71,
   "metadata": {},
   "outputs": [],
   "source": [
    "# store the sentiment scores in the merge dataset\n",
    "merge['Compound'] = compound\n",
    "merge['Negative'] = negative\n",
    "merge['Neutral'] = neutral\n",
    "merge['Positive'] = positive"
   ]
  },
  {
   "cell_type": "code",
   "execution_count": 72,
   "metadata": {},
   "outputs": [
    {
     "output_type": "execute_result",
     "data": {
      "text/plain": "         Date  Label                                               Top1  \\\n0  2008-08-08      0  b\"Georgia 'downs two Russian warplanes' as cou...   \n1  2008-08-11      1  b'Why wont America and Nato help us? If they w...   \n2  2008-08-12      0  b'Remember that adorable 9-year-old who sang a...   \n\n                                          Top2  \\\n0      b'BREAKING: Musharraf to be impeached.'   \n1  b'Bush puts foot down on Georgian conflict'   \n2           b\"Russia 'ends Georgia operation'\"   \n\n                                                Top3  \\\n0  b'Russia Today: Columns of troops roll into So...   \n1  b\"Jewish Georgian minister: Thanks to Israeli ...   \n2  b'\"If we had no sexual harassment we would hav...   \n\n                                                Top4  \\\n0  b'Russian tanks are moving towards the capital...   \n1  b'Georgian army flees in disarray as Russians ...   \n2  b\"Al-Qa'eda is losing support in Iraq because ...   \n\n                                                Top5  \\\n0  b\"Afghan children raped with 'impunity,' U.N. ...   \n1      b\"Olympic opening ceremony fireworks 'faked'\"   \n2  b'Ceasefire in Georgia: Putin Outmaneuvers the...   \n\n                                                Top6  \\\n0  b'150 Russian tanks have entered South Ossetia...   \n1  b'What were the Mossad with fraudulent New Zea...   \n2  b'Why Microsoft and Intel tried to kill the XO...   \n\n                                                Top7  \\\n0  b\"Breaking: Georgia invades South Ossetia, Rus...   \n1  b'Russia angered by Israeli military sale to G...   \n2  b'Stratfor: The Russo-Georgian War and the Bal...   \n\n                                                Top8  ...         Close  \\\n0  b\"The 'enemy combatent' trials are nothing but...  ...  13043.959961   \n1  b'An American citizen living in S.Ossetia blam...  ...  13056.719727   \n2  b\"I'm Trying to Get a Sense of This Whole Geor...  ...  12800.179688   \n\n      Adj Close     Volume                                      Combined_News  \\\n0  13043.959961  239580000  Georgia downs two Russian warplanes as countri...   \n1  13056.719727  200620000  Why wont America and Nato help us? If they won...   \n2  12800.179688  304210000  Remember that adorable 9-year-old who sang at ...   \n\n  Subjectivity  Polarity Compound Negative Neutral Positive  \n0     0.267549 -0.048568  -0.9982    0.235   0.724    0.041  \n1     0.374806  0.121956  -0.9858    0.191   0.721    0.089  \n2     0.536234 -0.044302  -0.9715    0.128   0.816    0.056  \n\n[3 rows x 40 columns]",
      "text/html": "<div>\n<style scoped>\n    .dataframe tbody tr th:only-of-type {\n        vertical-align: middle;\n    }\n\n    .dataframe tbody tr th {\n        vertical-align: top;\n    }\n\n    .dataframe thead th {\n        text-align: right;\n    }\n</style>\n<table border=\"1\" class=\"dataframe\">\n  <thead>\n    <tr style=\"text-align: right;\">\n      <th></th>\n      <th>Date</th>\n      <th>Label</th>\n      <th>Top1</th>\n      <th>Top2</th>\n      <th>Top3</th>\n      <th>Top4</th>\n      <th>Top5</th>\n      <th>Top6</th>\n      <th>Top7</th>\n      <th>Top8</th>\n      <th>...</th>\n      <th>Close</th>\n      <th>Adj Close</th>\n      <th>Volume</th>\n      <th>Combined_News</th>\n      <th>Subjectivity</th>\n      <th>Polarity</th>\n      <th>Compound</th>\n      <th>Negative</th>\n      <th>Neutral</th>\n      <th>Positive</th>\n    </tr>\n  </thead>\n  <tbody>\n    <tr>\n      <th>0</th>\n      <td>2008-08-08</td>\n      <td>0</td>\n      <td>b\"Georgia 'downs two Russian warplanes' as cou...</td>\n      <td>b'BREAKING: Musharraf to be impeached.'</td>\n      <td>b'Russia Today: Columns of troops roll into So...</td>\n      <td>b'Russian tanks are moving towards the capital...</td>\n      <td>b\"Afghan children raped with 'impunity,' U.N. ...</td>\n      <td>b'150 Russian tanks have entered South Ossetia...</td>\n      <td>b\"Breaking: Georgia invades South Ossetia, Rus...</td>\n      <td>b\"The 'enemy combatent' trials are nothing but...</td>\n      <td>...</td>\n      <td>13043.959961</td>\n      <td>13043.959961</td>\n      <td>239580000</td>\n      <td>Georgia downs two Russian warplanes as countri...</td>\n      <td>0.267549</td>\n      <td>-0.048568</td>\n      <td>-0.9982</td>\n      <td>0.235</td>\n      <td>0.724</td>\n      <td>0.041</td>\n    </tr>\n    <tr>\n      <th>1</th>\n      <td>2008-08-11</td>\n      <td>1</td>\n      <td>b'Why wont America and Nato help us? If they w...</td>\n      <td>b'Bush puts foot down on Georgian conflict'</td>\n      <td>b\"Jewish Georgian minister: Thanks to Israeli ...</td>\n      <td>b'Georgian army flees in disarray as Russians ...</td>\n      <td>b\"Olympic opening ceremony fireworks 'faked'\"</td>\n      <td>b'What were the Mossad with fraudulent New Zea...</td>\n      <td>b'Russia angered by Israeli military sale to G...</td>\n      <td>b'An American citizen living in S.Ossetia blam...</td>\n      <td>...</td>\n      <td>13056.719727</td>\n      <td>13056.719727</td>\n      <td>200620000</td>\n      <td>Why wont America and Nato help us? If they won...</td>\n      <td>0.374806</td>\n      <td>0.121956</td>\n      <td>-0.9858</td>\n      <td>0.191</td>\n      <td>0.721</td>\n      <td>0.089</td>\n    </tr>\n    <tr>\n      <th>2</th>\n      <td>2008-08-12</td>\n      <td>0</td>\n      <td>b'Remember that adorable 9-year-old who sang a...</td>\n      <td>b\"Russia 'ends Georgia operation'\"</td>\n      <td>b'\"If we had no sexual harassment we would hav...</td>\n      <td>b\"Al-Qa'eda is losing support in Iraq because ...</td>\n      <td>b'Ceasefire in Georgia: Putin Outmaneuvers the...</td>\n      <td>b'Why Microsoft and Intel tried to kill the XO...</td>\n      <td>b'Stratfor: The Russo-Georgian War and the Bal...</td>\n      <td>b\"I'm Trying to Get a Sense of This Whole Geor...</td>\n      <td>...</td>\n      <td>12800.179688</td>\n      <td>12800.179688</td>\n      <td>304210000</td>\n      <td>Remember that adorable 9-year-old who sang at ...</td>\n      <td>0.536234</td>\n      <td>-0.044302</td>\n      <td>-0.9715</td>\n      <td>0.128</td>\n      <td>0.816</td>\n      <td>0.056</td>\n    </tr>\n  </tbody>\n</table>\n<p>3 rows × 40 columns</p>\n</div>"
     },
     "metadata": {},
     "execution_count": 72
    }
   ],
   "source": [
    "# show the new merge data\n",
    "merge.head(3)"
   ]
  },
  {
   "cell_type": "code",
   "execution_count": 73,
   "metadata": {},
   "outputs": [
    {
     "output_type": "execute_result",
     "data": {
      "text/plain": "           Open          High           Low     Volume  Subjectivity  \\\n0  13261.820313  13279.540039  12991.370117  239580000      0.267549   \n1  13044.120117  13137.929688  13023.559570  200620000      0.374806   \n2  13046.559570  13046.719727  12789.040039  304210000      0.536234   \n\n   Polarity  Compound  Negative  Neutral  Positive  Label  \n0 -0.048568   -0.9982     0.235    0.724     0.041      0  \n1  0.121956   -0.9858     0.191    0.721     0.089      1  \n2 -0.044302   -0.9715     0.128    0.816     0.056      0  ",
      "text/html": "<div>\n<style scoped>\n    .dataframe tbody tr th:only-of-type {\n        vertical-align: middle;\n    }\n\n    .dataframe tbody tr th {\n        vertical-align: top;\n    }\n\n    .dataframe thead th {\n        text-align: right;\n    }\n</style>\n<table border=\"1\" class=\"dataframe\">\n  <thead>\n    <tr style=\"text-align: right;\">\n      <th></th>\n      <th>Open</th>\n      <th>High</th>\n      <th>Low</th>\n      <th>Volume</th>\n      <th>Subjectivity</th>\n      <th>Polarity</th>\n      <th>Compound</th>\n      <th>Negative</th>\n      <th>Neutral</th>\n      <th>Positive</th>\n      <th>Label</th>\n    </tr>\n  </thead>\n  <tbody>\n    <tr>\n      <th>0</th>\n      <td>13261.820313</td>\n      <td>13279.540039</td>\n      <td>12991.370117</td>\n      <td>239580000</td>\n      <td>0.267549</td>\n      <td>-0.048568</td>\n      <td>-0.9982</td>\n      <td>0.235</td>\n      <td>0.724</td>\n      <td>0.041</td>\n      <td>0</td>\n    </tr>\n    <tr>\n      <th>1</th>\n      <td>13044.120117</td>\n      <td>13137.929688</td>\n      <td>13023.559570</td>\n      <td>200620000</td>\n      <td>0.374806</td>\n      <td>0.121956</td>\n      <td>-0.9858</td>\n      <td>0.191</td>\n      <td>0.721</td>\n      <td>0.089</td>\n      <td>1</td>\n    </tr>\n    <tr>\n      <th>2</th>\n      <td>13046.559570</td>\n      <td>13046.719727</td>\n      <td>12789.040039</td>\n      <td>304210000</td>\n      <td>0.536234</td>\n      <td>-0.044302</td>\n      <td>-0.9715</td>\n      <td>0.128</td>\n      <td>0.816</td>\n      <td>0.056</td>\n      <td>0</td>\n    </tr>\n  </tbody>\n</table>\n</div>"
     },
     "metadata": {},
     "execution_count": 73
    }
   ],
   "source": [
    "# list of columns to keep to use later on (relavent data)\n",
    "keep_columns = ['Open', 'High', 'Low', 'Volume', 'Subjectivity', 'Polarity', 'Compound', 'Negative', 'Neutral', 'Positive', 'Label']\n",
    "\n",
    "# create new dataset with only useful columns from merge\n",
    "df = merge[keep_columns]\n",
    "\n",
    "# show glimpse of new data\n",
    "df.head(3)"
   ]
  },
  {
   "cell_type": "code",
   "execution_count": 74,
   "metadata": {},
   "outputs": [],
   "source": [
    "# create the feature dataset\n",
    "X = df \n",
    "# remove 'Label' column from X\n",
    "X = np.array(X.drop(['Label'], 1))\n",
    "# create target data set using only Label\n",
    "Y = np.array(df['Label'])"
   ]
  },
  {
   "cell_type": "code",
   "execution_count": 75,
   "metadata": {},
   "outputs": [],
   "source": [
    "# split data into 80% training, 20% testing data sets\n",
    "x_train, x_test, y_train, y_test = train_test_split(X, Y, test_size = 0.2, random_state = 0)"
   ]
  },
  {
   "cell_type": "code",
   "execution_count": 76,
   "metadata": {},
   "outputs": [],
   "source": [
    "# create and train the model\n",
    "model = LinearDiscriminantAnalysis().fit(x_train, y_train)"
   ]
  },
  {
   "cell_type": "code",
   "execution_count": 77,
   "metadata": {},
   "outputs": [
    {
     "output_type": "execute_result",
     "data": {
      "text/plain": "array([1, 1, 0, 1, 1, 1, 1, 1, 1, 1, 1, 1, 1, 1, 1, 1, 1, 1, 1, 1, 1, 1,\n       1, 1, 1, 1, 1, 1, 1, 1, 1, 1, 1, 1, 1, 1, 1, 1, 1, 1, 1, 1, 1, 1,\n       1, 1, 1, 1, 1, 1, 1, 1, 1, 1, 1, 1, 1, 1, 1, 1, 1, 1, 1, 1, 1, 1,\n       0, 1, 1, 1, 1, 1, 1, 0, 1, 1, 1, 0, 1, 1, 1, 1, 1, 1, 1, 1, 0, 1,\n       1, 1, 1, 1, 1, 1, 1, 1, 1, 1, 1, 1, 1, 1, 1, 1, 1, 1, 0, 1, 1, 1,\n       1, 1, 1, 1, 1, 1, 1, 1, 1, 1, 0, 1, 0, 1, 0, 1, 1, 1, 1, 1, 1, 1,\n       1, 1, 1, 1, 1, 1, 1, 1, 1, 1, 1, 1, 1, 1, 1, 1, 1, 1, 0, 1, 1, 1,\n       1, 1, 1, 1, 1, 1, 1, 1, 1, 1, 0, 0, 1, 1, 1, 1, 1, 0, 1, 1, 1, 0,\n       1, 1, 1, 1, 1, 1, 1, 1, 1, 1, 1, 1, 1, 1, 1, 1, 1, 1, 1, 1, 1, 1,\n       1, 1, 1, 1, 1, 1, 1, 1, 1, 1, 1, 1, 1, 1, 1, 1, 0, 1, 1, 1, 1, 1,\n       1, 1, 1, 1, 1, 1, 1, 1, 0, 1, 1, 1, 1, 1, 1, 1, 1, 1, 1, 1, 1, 1,\n       1, 1, 1, 1, 1, 1, 1, 0, 1, 0, 1, 1, 1, 1, 1, 1, 1, 1, 1, 0, 1, 1,\n       1, 1, 1, 1, 1, 1, 1, 1, 1, 1, 1, 1, 1, 1, 1, 1, 1, 1, 1, 1, 1, 1,\n       1, 1, 1, 1, 1, 1, 1, 1, 1, 1, 1, 1, 1, 1, 1, 1, 1, 1, 1, 1, 1, 1,\n       1, 1, 0, 1, 1, 1, 1, 1, 1, 1, 1, 1, 1, 0, 1, 1, 1, 1, 1, 1, 1, 1,\n       1, 1, 1, 1, 1, 1, 1, 1, 1, 1, 1, 1, 1, 1, 1, 0, 1, 0, 1, 0, 1, 1,\n       1, 1, 0, 1, 0, 1, 1, 1, 1, 1, 0, 1, 1, 0, 1, 0, 1, 1, 1, 1, 1, 1,\n       1, 1, 1, 1, 1, 1, 1, 1, 1, 1, 1, 1, 1, 1, 1, 1, 1, 1, 1, 1, 0, 1,\n       1, 1], dtype=int64)"
     },
     "metadata": {},
     "execution_count": 77
    }
   ],
   "source": [
    "# show the model's predictions\n",
    "predictions = model.predict(x_test)\n",
    "predictions"
   ]
  },
  {
   "cell_type": "code",
   "execution_count": 78,
   "metadata": {},
   "outputs": [
    {
     "output_type": "execute_result",
     "data": {
      "text/plain": "array([1, 1, 0, 0, 0, 1, 0, 0, 0, 0, 0, 0, 0, 1, 0, 1, 1, 1, 0, 0, 0, 1,\n       0, 1, 1, 1, 0, 0, 0, 0, 0, 0, 0, 1, 0, 1, 1, 0, 1, 1, 0, 0, 1, 1,\n       1, 1, 0, 1, 1, 0, 1, 1, 1, 0, 1, 1, 1, 0, 0, 1, 0, 1, 0, 1, 0, 1,\n       0, 1, 0, 0, 0, 0, 0, 1, 1, 1, 0, 1, 1, 0, 0, 1, 0, 0, 0, 1, 1, 0,\n       1, 1, 1, 0, 0, 0, 0, 0, 0, 1, 1, 0, 1, 0, 0, 0, 0, 0, 1, 0, 0, 0,\n       0, 0, 1, 0, 1, 1, 0, 1, 1, 0, 1, 1, 1, 0, 0, 1, 0, 1, 1, 0, 0, 1,\n       1, 0, 0, 0, 0, 0, 0, 1, 0, 0, 0, 1, 1, 1, 1, 0, 1, 0, 0, 0, 0, 1,\n       0, 1, 1, 0, 1, 0, 0, 1, 1, 1, 1, 0, 1, 1, 1, 1, 1, 0, 1, 0, 1, 0,\n       1, 1, 0, 1, 1, 1, 1, 0, 0, 0, 1, 0, 1, 1, 0, 0, 1, 1, 0, 0, 0, 1,\n       1, 0, 0, 1, 0, 0, 1, 0, 0, 0, 0, 0, 1, 0, 1, 1, 1, 1, 0, 0, 0, 1,\n       0, 1, 1, 0, 0, 0, 1, 1, 1, 1, 1, 0, 0, 1, 1, 1, 1, 1, 0, 0, 1, 1,\n       0, 1, 1, 0, 1, 1, 0, 1, 1, 1, 1, 1, 0, 0, 0, 1, 0, 1, 1, 1, 0, 0,\n       1, 0, 0, 0, 0, 1, 1, 0, 1, 0, 1, 1, 1, 1, 0, 0, 0, 1, 1, 1, 0, 0,\n       0, 0, 0, 1, 0, 1, 0, 1, 0, 0, 1, 0, 1, 1, 1, 1, 0, 1, 1, 0, 1, 1,\n       0, 1, 0, 1, 1, 0, 1, 1, 1, 1, 0, 1, 1, 1, 1, 1, 1, 0, 1, 0, 0, 0,\n       1, 1, 1, 0, 0, 1, 1, 1, 0, 1, 0, 0, 1, 0, 1, 1, 1, 0, 1, 1, 0, 1,\n       1, 1, 1, 1, 1, 0, 1, 0, 0, 0, 0, 0, 1, 1, 1, 1, 1, 1, 0, 0, 1, 0,\n       0, 0, 1, 0, 1, 1, 0, 0, 0, 1, 0, 0, 0, 1, 0, 1, 1, 1, 0, 1, 1, 1,\n       0, 0], dtype=int64)"
     },
     "metadata": {},
     "execution_count": 78
    }
   ],
   "source": [
    "# check y_test to see if there are matches (y_test being actual hindsight)\n",
    "y_test"
   ]
  },
  {
   "cell_type": "code",
   "execution_count": 79,
   "metadata": {
    "tags": []
   },
   "outputs": [
    {
     "output_type": "stream",
     "name": "stdout",
     "text": "precision    recall  f1-score   support\n\n           0       0.33      0.05      0.09       193\n           1       0.50      0.90      0.65       205\n\n    accuracy                           0.49       398\n   macro avg       0.42      0.48      0.37       398\nweighted avg       0.42      0.49      0.38       398\n\n"
    }
   ],
   "source": [
    "# show the model metrics\n",
    "print(classification_report(y_test, predictions))"
   ]
  },
  {
   "cell_type": "code",
   "execution_count": null,
   "metadata": {},
   "outputs": [],
   "source": []
  }
 ]
}
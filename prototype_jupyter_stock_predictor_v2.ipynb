{
 "metadata": {
  "language_info": {
   "codemirror_mode": {
    "name": "ipython",
    "version": 3
   },
   "file_extension": ".py",
   "mimetype": "text/x-python",
   "name": "python",
   "nbconvert_exporter": "python",
   "pygments_lexer": "ipython3",
   "version": "3.8.5-final"
  },
  "orig_nbformat": 2,
  "kernelspec": {
   "name": "python_defaultSpec_1600218019004",
   "display_name": "Python 3.8.5 64-bit"
  }
 },
 "nbformat": 4,
 "nbformat_minor": 2,
 "cells": [
  {
   "cell_type": "code",
   "execution_count": 1,
   "metadata": {},
   "outputs": [],
   "source": [
    "# This program uses machine learning to predict the price of a stock V2 using a decision tree\n",
    "# import the libraries\n",
    "from sklearn.model_selection import train_test_split\n",
    "from sklearn.tree import DecisionTreeClassifier\n",
    "import numpy as np \n",
    "import pandas as pd "
   ]
  },
  {
   "cell_type": "code",
   "execution_count": 6,
   "metadata": {},
   "outputs": [],
   "source": [
    "# load the data and store it to a var\n",
    "df = pd.read_csv('Data/TSLA.csv')\n",
    "# set the date as the index\n",
    "df = df.set_index(pd.DatetimeIndex(df['Date'].values))\n",
    "# give the index a name\n",
    "df.index.name = 'Date'"
   ]
  },
  {
   "cell_type": "code",
   "execution_count": 7,
   "metadata": {},
   "outputs": [
    {
     "output_type": "execute_result",
     "data": {
      "text/plain": "                  Date       Open       High        Low      Close  Adj Close  \\\nDate                                                                            \n2019-09-16  2019-09-16  49.200001  49.486000  48.234001  48.562000  48.562000   \n2019-09-17  2019-09-17  48.493999  49.119999  48.074001  48.958000  48.958000   \n2019-09-18  2019-09-18  49.000000  49.633999  48.473999  48.698002  48.698002   \n2019-09-19  2019-09-19  49.200001  49.588001  48.967999  49.320000  49.320000   \n2019-09-20  2019-09-20  49.298000  49.389999  47.632000  48.124001  48.124001   \n2019-09-23  2019-09-23  48.000000  49.035999  47.844002  48.245998  48.245998   \n\n              Volume  \nDate                  \n2019-09-16  23640500  \n2019-09-17  19327000  \n2019-09-18  20851000  \n2019-09-19  23979000  \n2019-09-20  31765000  \n2019-09-23  21701000  ",
      "text/html": "<div>\n<style scoped>\n    .dataframe tbody tr th:only-of-type {\n        vertical-align: middle;\n    }\n\n    .dataframe tbody tr th {\n        vertical-align: top;\n    }\n\n    .dataframe thead th {\n        text-align: right;\n    }\n</style>\n<table border=\"1\" class=\"dataframe\">\n  <thead>\n    <tr style=\"text-align: right;\">\n      <th></th>\n      <th>Date</th>\n      <th>Open</th>\n      <th>High</th>\n      <th>Low</th>\n      <th>Close</th>\n      <th>Adj Close</th>\n      <th>Volume</th>\n    </tr>\n    <tr>\n      <th>Date</th>\n      <th></th>\n      <th></th>\n      <th></th>\n      <th></th>\n      <th></th>\n      <th></th>\n      <th></th>\n    </tr>\n  </thead>\n  <tbody>\n    <tr>\n      <th>2019-09-16</th>\n      <td>2019-09-16</td>\n      <td>49.200001</td>\n      <td>49.486000</td>\n      <td>48.234001</td>\n      <td>48.562000</td>\n      <td>48.562000</td>\n      <td>23640500</td>\n    </tr>\n    <tr>\n      <th>2019-09-17</th>\n      <td>2019-09-17</td>\n      <td>48.493999</td>\n      <td>49.119999</td>\n      <td>48.074001</td>\n      <td>48.958000</td>\n      <td>48.958000</td>\n      <td>19327000</td>\n    </tr>\n    <tr>\n      <th>2019-09-18</th>\n      <td>2019-09-18</td>\n      <td>49.000000</td>\n      <td>49.633999</td>\n      <td>48.473999</td>\n      <td>48.698002</td>\n      <td>48.698002</td>\n      <td>20851000</td>\n    </tr>\n    <tr>\n      <th>2019-09-19</th>\n      <td>2019-09-19</td>\n      <td>49.200001</td>\n      <td>49.588001</td>\n      <td>48.967999</td>\n      <td>49.320000</td>\n      <td>49.320000</td>\n      <td>23979000</td>\n    </tr>\n    <tr>\n      <th>2019-09-20</th>\n      <td>2019-09-20</td>\n      <td>49.298000</td>\n      <td>49.389999</td>\n      <td>47.632000</td>\n      <td>48.124001</td>\n      <td>48.124001</td>\n      <td>31765000</td>\n    </tr>\n    <tr>\n      <th>2019-09-23</th>\n      <td>2019-09-23</td>\n      <td>48.000000</td>\n      <td>49.035999</td>\n      <td>47.844002</td>\n      <td>48.245998</td>\n      <td>48.245998</td>\n      <td>21701000</td>\n    </tr>\n  </tbody>\n</table>\n</div>"
     },
     "metadata": {},
     "execution_count": 7
    }
   ],
   "source": [
    "df.head(6)"
   ]
  },
  {
   "cell_type": "code",
   "execution_count": 8,
   "metadata": {},
   "outputs": [
    {
     "output_type": "execute_result",
     "data": {
      "text/plain": "                 Open       High        Low      Close  Adj Close    Volume  \\\nDate                                                                          \n2019-09-16  49.200001  49.486000  48.234001  48.562000  48.562000  23640500   \n2019-09-17  48.493999  49.119999  48.074001  48.958000  48.958000  19327000   \n2019-09-18  49.000000  49.633999  48.473999  48.698002  48.698002  20851000   \n2019-09-19  49.200001  49.588001  48.967999  49.320000  49.320000  23979000   \n2019-09-20  49.298000  49.389999  47.632000  48.124001  48.124001  31765000   \n2019-09-23  48.000000  49.035999  47.844002  48.245998  48.245998  21701000   \n\n            Price_up  \nDate                  \n2019-09-16         1  \n2019-09-17         0  \n2019-09-18         1  \n2019-09-19         0  \n2019-09-20         1  \n2019-09-23         0  ",
      "text/html": "<div>\n<style scoped>\n    .dataframe tbody tr th:only-of-type {\n        vertical-align: middle;\n    }\n\n    .dataframe tbody tr th {\n        vertical-align: top;\n    }\n\n    .dataframe thead th {\n        text-align: right;\n    }\n</style>\n<table border=\"1\" class=\"dataframe\">\n  <thead>\n    <tr style=\"text-align: right;\">\n      <th></th>\n      <th>Open</th>\n      <th>High</th>\n      <th>Low</th>\n      <th>Close</th>\n      <th>Adj Close</th>\n      <th>Volume</th>\n      <th>Price_up</th>\n    </tr>\n    <tr>\n      <th>Date</th>\n      <th></th>\n      <th></th>\n      <th></th>\n      <th></th>\n      <th></th>\n      <th></th>\n      <th></th>\n    </tr>\n  </thead>\n  <tbody>\n    <tr>\n      <th>2019-09-16</th>\n      <td>49.200001</td>\n      <td>49.486000</td>\n      <td>48.234001</td>\n      <td>48.562000</td>\n      <td>48.562000</td>\n      <td>23640500</td>\n      <td>1</td>\n    </tr>\n    <tr>\n      <th>2019-09-17</th>\n      <td>48.493999</td>\n      <td>49.119999</td>\n      <td>48.074001</td>\n      <td>48.958000</td>\n      <td>48.958000</td>\n      <td>19327000</td>\n      <td>0</td>\n    </tr>\n    <tr>\n      <th>2019-09-18</th>\n      <td>49.000000</td>\n      <td>49.633999</td>\n      <td>48.473999</td>\n      <td>48.698002</td>\n      <td>48.698002</td>\n      <td>20851000</td>\n      <td>1</td>\n    </tr>\n    <tr>\n      <th>2019-09-19</th>\n      <td>49.200001</td>\n      <td>49.588001</td>\n      <td>48.967999</td>\n      <td>49.320000</td>\n      <td>49.320000</td>\n      <td>23979000</td>\n      <td>0</td>\n    </tr>\n    <tr>\n      <th>2019-09-20</th>\n      <td>49.298000</td>\n      <td>49.389999</td>\n      <td>47.632000</td>\n      <td>48.124001</td>\n      <td>48.124001</td>\n      <td>31765000</td>\n      <td>1</td>\n    </tr>\n    <tr>\n      <th>2019-09-23</th>\n      <td>48.000000</td>\n      <td>49.035999</td>\n      <td>47.844002</td>\n      <td>48.245998</td>\n      <td>48.245998</td>\n      <td>21701000</td>\n      <td>0</td>\n    </tr>\n  </tbody>\n</table>\n</div>"
     },
     "metadata": {},
     "execution_count": 8
    }
   ],
   "source": [
    "# manipulate the data\n",
    "# create a new column to store if close price changed either up (1) or down (0)\n",
    "df['Price_up'] = np.where(df['Close'].shift(-1) > df['Close'], 1, 0)\n",
    "# remove date column becuase it is already in index\n",
    "df = df.drop(columns=['Date'])\n",
    "# show the data\n",
    "df.head(6)"
   ]
  },
  {
   "cell_type": "code",
   "execution_count": 9,
   "metadata": {},
   "outputs": [],
   "source": [
    "# split the data set into a feature set and a target set\n",
    "\n",
    "# X is set to all rows (:), and all columns except the target column in the end (df.shape[1] is the columns, and -1 is the last column in columns)as an array (.values)\n",
    "X = df.iloc[:, 0:df.shape[1]-1].values\n",
    "# Y is all the rows (:), and only the target column as an array\n",
    "Y = df.iloc[:, df.shape[1]-1].values"
   ]
  },
  {
   "cell_type": "code",
   "execution_count": 10,
   "metadata": {},
   "outputs": [],
   "source": [
    "# split data into training (80%) and testing (20%) sets\n",
    "x_train, x_test, y_train, y_test = train_test_split(X, Y, test_size = 0.2)"
   ]
  },
  {
   "cell_type": "code",
   "execution_count": 11,
   "metadata": {
    "tags": []
   },
   "outputs": [
    {
     "output_type": "stream",
     "name": "stdout",
     "text": "0.45098039215686275\n"
    }
   ],
   "source": [
    "# Create and train the model (DecisionTreeClassifier)\n",
    "tree = DecisionTreeClassifier().fit(x_train, y_train)\n",
    "\n",
    "# show how well the model did on the test data set\n",
    "print(tree.score(x_test, y_test))"
   ]
  },
  {
   "cell_type": "code",
   "execution_count": 12,
   "metadata": {
    "tags": []
   },
   "outputs": [
    {
     "output_type": "stream",
     "name": "stdout",
     "text": "[1 0 1 1 1 1 0 1 1 0 0 1 0 1 0 1 0 1 1 1 1 1 1 1 0 1 1 0 1 1 0 0 1 1 1 0 1\n 0 1 1 1 1 0 0 1 1 1 1 0 0 0]\n"
    }
   ],
   "source": [
    "# show the models predictions\n",
    "tree_predictions = tree.predict(x_test)\n",
    "print(tree_predictions)"
   ]
  },
  {
   "cell_type": "code",
   "execution_count": 13,
   "metadata": {},
   "outputs": [
    {
     "output_type": "execute_result",
     "data": {
      "text/plain": "array([1, 0, 0, 0, 0, 0, 1, 0, 1, 0, 1, 0, 0, 1, 1, 0, 1, 0, 0, 1, 0, 0,\n       1, 1, 0, 1, 0, 1, 0, 1, 0, 0, 0, 1, 1, 1, 0, 1, 0, 1, 1, 1, 1, 1,\n       1, 1, 0, 0, 0, 1, 0])"
     },
     "metadata": {},
     "execution_count": 13
    }
   ],
   "source": [
    "# show the actual values\n",
    "y_test"
   ]
  },
  {
   "cell_type": "code",
   "execution_count": null,
   "metadata": {},
   "outputs": [],
   "source": [
    "# this model doesn't take in the right parameters, just using close price is not even enough to start with, a proper stock predictor needs to machine learn with every indicator and news source possible, a very complex algorithm is needed"
   ]
  }
 ]
}
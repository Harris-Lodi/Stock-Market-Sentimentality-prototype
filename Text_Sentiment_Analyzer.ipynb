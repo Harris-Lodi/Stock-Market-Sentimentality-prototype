{
 "metadata": {
  "language_info": {
   "codemirror_mode": {
    "name": "ipython",
    "version": 3
   },
   "file_extension": ".py",
   "mimetype": "text/x-python",
   "name": "python",
   "nbconvert_exporter": "python",
   "pygments_lexer": "ipython3",
   "version": "3.8.5-final"
  },
  "orig_nbformat": 2,
  "kernelspec": {
   "name": "python_defaultSpec_1600819786680",
   "display_name": "Python 3.8.5 64-bit"
  }
 },
 "nbformat": 4,
 "nbformat_minor": 2,
 "cells": [
  {
   "cell_type": "code",
   "execution_count": null,
   "metadata": {},
   "outputs": [],
   "source": [
    "# Text sentiment analyzer"
   ]
  },
  {
   "cell_type": "code",
   "execution_count": null,
   "metadata": {},
   "outputs": [],
   "source": [
    "# install newspaper3k via terminal since jupyter lab gave an error"
   ]
  },
  {
   "cell_type": "code",
   "execution_count": null,
   "metadata": {},
   "outputs": [],
   "source": [
    "# import the libraries\n",
    "from textblob import TextBlob\n",
    "import nltk \n",
    "from newspaper import Article"
   ]
  },
  {
   "cell_type": "code",
   "execution_count": null,
   "metadata": {},
   "outputs": [],
   "source": [
    "# get the source url\n",
    "url = 'https://everythingcomputerscience.com/'\n",
    "article = Article(url)"
   ]
  },
  {
   "cell_type": "code",
   "execution_count": null,
   "metadata": {
    "tags": []
   },
   "outputs": [],
   "source": [
    "# do some natural language processing (nlp)\n",
    "article.download()\n",
    "article.parse()\n",
    "# download 'punkt' sentence tokenizer fron nltk\n",
    "nltk.download('punkt')\n",
    "# key word extraction from article\n",
    "article.nlp()"
   ]
  },
  {
   "cell_type": "code",
   "execution_count": 8,
   "metadata": {
    "tags": []
   },
   "outputs": [
    {
     "output_type": "stream",
     "name": "stdout",
     "text": "Computer Science (CS)Computer Science (CS) is the study of the principles and use of computers.\nSimply put it's the science that deals with the theory and methods of processing information in digital computers, the design of computer hardware and software, and the applications of computers.\nA computer is simply a tool for a computer scientist, like a telescope for an astronomer.\nTeach yourself !\n"
    }
   ],
   "source": [
    "# Get the summary of the article\n",
    "text = article.summary\n",
    "\n",
    "# show summary\n",
    "print(text)"
   ]
  },
  {
   "cell_type": "code",
   "execution_count": 9,
   "metadata": {
    "tags": []
   },
   "outputs": [
    {
     "output_type": "stream",
     "name": "stdout",
     "text": "0.0\n"
    }
   ],
   "source": [
    "# create a textblob object\n",
    "obj = TextBlob(text)\n",
    "\n",
    "# returns a value between -1 (neg sentiment) and 1 (good sentiment), 0 is neut\n",
    "sentiment = obj.sentiment.polarity\n",
    "print(sentiment)"
   ]
  },
  {
   "cell_type": "code",
   "execution_count": 10,
   "metadata": {
    "tags": []
   },
   "outputs": [
    {
     "output_type": "stream",
     "name": "stdout",
     "text": "The text is neutral from the author's POV\n"
    }
   ],
   "source": [
    "if sentiment == 0:\n",
    "    print(\"The text is neutral from the author's POV\")\n",
    "elif sentiment > 0:\n",
    "    print(\"The text is positive from the author's POV\")\n",
    "else:\n",
    "    print(\"The text is negative from the author's POV\")"
   ]
  },
  {
   "cell_type": "code",
   "execution_count": null,
   "metadata": {},
   "outputs": [],
   "source": []
  }
 ]
}